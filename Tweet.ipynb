{
 "cells": [
  {
   "cell_type": "markdown",
   "id": "dc0954dd",
   "metadata": {},
   "source": [
    "# Installing libaries"
   ]
  },
  {
   "cell_type": "code",
   "execution_count": 1,
   "id": "f72cd08e",
   "metadata": {},
   "outputs": [
    {
     "name": "stdout",
     "output_type": "stream",
     "text": [
      "/bin/bash: /opt/conda/lib/libtinfo.so.6: no version information available (required by /bin/bash)\n",
      "Collecting vaderSentiment\n",
      "  Downloading vaderSentiment-3.3.2-py2.py3-none-any.whl (125 kB)\n",
      "\u001b[K     |████████████████████████████████| 125 kB 23.6 MB/s eta 0:00:01\n",
      "\u001b[?25hRequirement already satisfied: requests in /opt/conda/lib/python3.9/site-packages (from vaderSentiment) (2.27.1)\n",
      "Requirement already satisfied: charset-normalizer~=2.0.0 in /opt/conda/lib/python3.9/site-packages (from requests->vaderSentiment) (2.0.4)\n",
      "Requirement already satisfied: urllib3<1.27,>=1.21.1 in /opt/conda/lib/python3.9/site-packages (from requests->vaderSentiment) (1.26.9)\n",
      "Requirement already satisfied: idna<4,>=2.5 in /opt/conda/lib/python3.9/site-packages (from requests->vaderSentiment) (3.3)\n",
      "Requirement already satisfied: certifi>=2017.4.17 in /opt/conda/lib/python3.9/site-packages (from requests->vaderSentiment) (2022.5.18.1)\n",
      "Installing collected packages: vaderSentiment\n",
      "Successfully installed vaderSentiment-3.3.2\n"
     ]
    }
   ],
   "source": [
    "!pip install vaderSentiment"
   ]
  },
  {
   "cell_type": "code",
   "execution_count": 2,
   "id": "8f98ab28",
   "metadata": {},
   "outputs": [
    {
     "name": "stdout",
     "output_type": "stream",
     "text": [
      "/bin/bash: /opt/conda/lib/libtinfo.so.6: no version information available (required by /bin/bash)\n",
      "Requirement already satisfied: spacy in /opt/conda/lib/python3.9/site-packages (2.2.4)\n",
      "Collecting spacy\n",
      "  Downloading spacy-3.4.1-cp39-cp39-manylinux_2_17_x86_64.manylinux2014_x86_64.whl (6.4 MB)\n",
      "\u001b[K     |████████████████████████████████| 6.4 MB 30.1 MB/s eta 0:00:01\n",
      "\u001b[?25hRequirement already satisfied: cymem<2.1.0,>=2.0.2 in /opt/conda/lib/python3.9/site-packages (from spacy) (2.0.6)\n",
      "Requirement already satisfied: numpy>=1.15.0 in /opt/conda/lib/python3.9/site-packages (from spacy) (1.22.3)\n",
      "Requirement already satisfied: packaging>=20.0 in /opt/conda/lib/python3.9/site-packages (from spacy) (21.3)\n",
      "Requirement already satisfied: wasabi<1.1.0,>=0.9.1 in /opt/conda/lib/python3.9/site-packages (from spacy) (0.9.1)\n",
      "Collecting pathy>=0.3.5\n",
      "  Downloading pathy-0.6.2-py3-none-any.whl (42 kB)\n",
      "\u001b[K     |████████████████████████████████| 42 kB 719 kB/s  eta 0:00:01\n",
      "\u001b[?25hCollecting pydantic!=1.8,!=1.8.1,<1.10.0,>=1.7.4\n",
      "  Downloading pydantic-1.9.2-cp39-cp39-manylinux_2_17_x86_64.manylinux2014_x86_64.whl (12.4 MB)\n",
      "\u001b[K     |████████████████████████████████| 12.4 MB 67.1 MB/s eta 0:00:01\n",
      "\u001b[?25hRequirement already satisfied: jinja2 in /opt/conda/lib/python3.9/site-packages (from spacy) (3.0.3)\n",
      "Collecting spacy-loggers<2.0.0,>=1.0.0\n",
      "  Downloading spacy_loggers-1.0.3-py3-none-any.whl (9.3 kB)\n",
      "Collecting spacy-legacy<3.1.0,>=3.0.9\n",
      "  Downloading spacy_legacy-3.0.10-py2.py3-none-any.whl (21 kB)\n",
      "Collecting thinc<8.2.0,>=8.1.0\n",
      "  Downloading thinc-8.1.1-cp39-cp39-manylinux_2_17_x86_64.manylinux2014_x86_64.whl (813 kB)\n",
      "\u001b[K     |████████████████████████████████| 813 kB 53.1 MB/s eta 0:00:01\n",
      "\u001b[?25hRequirement already satisfied: tqdm<5.0.0,>=4.38.0 in /opt/conda/lib/python3.9/site-packages (from spacy) (4.64.0)\n",
      "Collecting langcodes<4.0.0,>=3.2.0\n",
      "  Downloading langcodes-3.3.0-py3-none-any.whl (181 kB)\n",
      "\u001b[K     |████████████████████████████████| 181 kB 83.9 MB/s eta 0:00:01\n",
      "\u001b[?25hRequirement already satisfied: requests<3.0.0,>=2.13.0 in /opt/conda/lib/python3.9/site-packages (from spacy) (2.27.1)\n",
      "Collecting typer<0.5.0,>=0.3.0\n",
      "  Downloading typer-0.4.2-py3-none-any.whl (27 kB)\n",
      "Collecting catalogue<2.1.0,>=2.0.6\n",
      "  Downloading catalogue-2.0.8-py3-none-any.whl (17 kB)\n",
      "Collecting srsly<3.0.0,>=2.4.3\n",
      "  Downloading srsly-2.4.4-cp39-cp39-manylinux_2_17_x86_64.manylinux2014_x86_64.whl (459 kB)\n",
      "\u001b[K     |████████████████████████████████| 459 kB 61.5 MB/s eta 0:00:01\n",
      "\u001b[?25hRequirement already satisfied: preshed<3.1.0,>=3.0.2 in /opt/conda/lib/python3.9/site-packages (from spacy) (3.0.6)\n",
      "Requirement already satisfied: setuptools in /opt/conda/lib/python3.9/site-packages (from spacy) (61.2.0)\n",
      "Requirement already satisfied: murmurhash<1.1.0,>=0.28.0 in /opt/conda/lib/python3.9/site-packages (from spacy) (1.0.7)\n",
      "Requirement already satisfied: pyparsing!=3.0.5,>=2.0.2 in /opt/conda/lib/python3.9/site-packages (from packaging>=20.0->spacy) (3.0.4)\n",
      "Collecting smart-open<6.0.0,>=5.2.1\n",
      "  Downloading smart_open-5.2.1-py3-none-any.whl (58 kB)\n",
      "\u001b[K     |████████████████████████████████| 58 kB 6.7 MB/s  eta 0:00:01\n",
      "\u001b[?25hRequirement already satisfied: typing-extensions>=3.7.4.3 in /opt/conda/lib/python3.9/site-packages (from pydantic!=1.8,!=1.8.1,<1.10.0,>=1.7.4->spacy) (4.1.1)\n",
      "Requirement already satisfied: charset-normalizer~=2.0.0 in /opt/conda/lib/python3.9/site-packages (from requests<3.0.0,>=2.13.0->spacy) (2.0.4)\n",
      "Requirement already satisfied: certifi>=2017.4.17 in /opt/conda/lib/python3.9/site-packages (from requests<3.0.0,>=2.13.0->spacy) (2022.5.18.1)\n",
      "Requirement already satisfied: urllib3<1.27,>=1.21.1 in /opt/conda/lib/python3.9/site-packages (from requests<3.0.0,>=2.13.0->spacy) (1.26.9)\n",
      "Requirement already satisfied: idna<4,>=2.5 in /opt/conda/lib/python3.9/site-packages (from requests<3.0.0,>=2.13.0->spacy) (3.3)\n",
      "Collecting blis<0.10.0,>=0.7.8\n",
      "  Downloading blis-0.9.1-cp39-cp39-manylinux_2_17_x86_64.manylinux2014_x86_64.whl (7.8 MB)\n",
      "\u001b[K     |████████████████████████████████| 7.8 MB 37.6 MB/s eta 0:00:01\n",
      "\u001b[?25hCollecting confection<1.0.0,>=0.0.1\n",
      "  Downloading confection-0.0.1-py3-none-any.whl (32 kB)\n",
      "Requirement already satisfied: click<9.0.0,>=7.1.1 in /opt/conda/lib/python3.9/site-packages (from typer<0.5.0,>=0.3.0->spacy) (8.0.4)\n",
      "Requirement already satisfied: MarkupSafe>=2.0 in /opt/conda/lib/python3.9/site-packages (from jinja2->spacy) (2.1.1)\n",
      "Installing collected packages: catalogue, srsly, pydantic, typer, smart-open, confection, blis, thinc, spacy-loggers, spacy-legacy, pathy, langcodes, spacy\n",
      "  Attempting uninstall: catalogue\n",
      "    Found existing installation: catalogue 1.0.0\n",
      "    Uninstalling catalogue-1.0.0:\n",
      "      Successfully uninstalled catalogue-1.0.0\n",
      "  Attempting uninstall: srsly\n",
      "    Found existing installation: srsly 1.0.5\n",
      "    Uninstalling srsly-1.0.5:\n",
      "      Successfully uninstalled srsly-1.0.5\n",
      "  Attempting uninstall: blis\n",
      "    Found existing installation: blis 0.4.1\n",
      "    Uninstalling blis-0.4.1:\n",
      "      Successfully uninstalled blis-0.4.1\n",
      "  Attempting uninstall: thinc\n",
      "    Found existing installation: thinc 7.4.0\n",
      "    Uninstalling thinc-7.4.0:\n",
      "      Successfully uninstalled thinc-7.4.0\n",
      "  Attempting uninstall: spacy\n",
      "    Found existing installation: spacy 2.2.4\n",
      "    Uninstalling spacy-2.2.4:\n",
      "      Successfully uninstalled spacy-2.2.4\n",
      "Successfully installed blis-0.9.1 catalogue-2.0.8 confection-0.0.1 langcodes-3.3.0 pathy-0.6.2 pydantic-1.9.2 smart-open-5.2.1 spacy-3.4.1 spacy-legacy-3.0.10 spacy-loggers-1.0.3 srsly-2.4.4 thinc-8.1.1 typer-0.4.2\n"
     ]
    }
   ],
   "source": [
    "!pip install --upgrade spacy"
   ]
  },
  {
   "cell_type": "code",
   "execution_count": 3,
   "id": "1f631cec",
   "metadata": {},
   "outputs": [
    {
     "name": "stdout",
     "output_type": "stream",
     "text": [
      "/bin/bash: /opt/conda/lib/libtinfo.so.6: no version information available (required by /bin/bash)\n",
      "2022-09-14 21:35:25.485193: W tensorflow/stream_executor/platform/default/dso_loader.cc:64] Could not load dynamic library 'libcuda.so.1'; dlerror: libcuda.so.1: cannot open shared object file: No such file or directory; LD_LIBRARY_PATH: :/opt/conda/lib:\n",
      "2022-09-14 21:35:25.485236: W tensorflow/stream_executor/cuda/cuda_driver.cc:269] failed call to cuInit: UNKNOWN ERROR (303)\n",
      "2022-09-14 21:35:25.485274: I tensorflow/stream_executor/cuda/cuda_diagnostics.cc:156] kernel driver does not appear to be running on this host (84b113f715ac): /proc/driver/nvidia/version does not exist\n",
      "Collecting en-core-web-lg==3.4.0\n",
      "  Downloading https://github.com/explosion/spacy-models/releases/download/en_core_web_lg-3.4.0/en_core_web_lg-3.4.0-py3-none-any.whl (587.7 MB)\n",
      "\u001b[K     |████████████████████████████████| 587.7 MB 2.6 kB/s  eta 0:00:01MB 36.3 MB/s eta 0:00:16     |████████████████▏               | 297.1 MB 83.0 MB/s eta 0:00:04MB/s eta 0:00:02\n",
      "\u001b[?25hRequirement already satisfied: spacy<3.5.0,>=3.4.0 in /opt/conda/lib/python3.9/site-packages (from en-core-web-lg==3.4.0) (3.4.1)\n",
      "Requirement already satisfied: thinc<8.2.0,>=8.1.0 in /opt/conda/lib/python3.9/site-packages (from spacy<3.5.0,>=3.4.0->en-core-web-lg==3.4.0) (8.1.1)\n",
      "Requirement already satisfied: catalogue<2.1.0,>=2.0.6 in /opt/conda/lib/python3.9/site-packages (from spacy<3.5.0,>=3.4.0->en-core-web-lg==3.4.0) (2.0.8)\n",
      "Requirement already satisfied: pathy>=0.3.5 in /opt/conda/lib/python3.9/site-packages (from spacy<3.5.0,>=3.4.0->en-core-web-lg==3.4.0) (0.6.2)\n",
      "Requirement already satisfied: requests<3.0.0,>=2.13.0 in /opt/conda/lib/python3.9/site-packages (from spacy<3.5.0,>=3.4.0->en-core-web-lg==3.4.0) (2.27.1)\n",
      "Requirement already satisfied: packaging>=20.0 in /opt/conda/lib/python3.9/site-packages (from spacy<3.5.0,>=3.4.0->en-core-web-lg==3.4.0) (21.3)\n",
      "Requirement already satisfied: numpy>=1.15.0 in /opt/conda/lib/python3.9/site-packages (from spacy<3.5.0,>=3.4.0->en-core-web-lg==3.4.0) (1.22.3)\n",
      "Requirement already satisfied: langcodes<4.0.0,>=3.2.0 in /opt/conda/lib/python3.9/site-packages (from spacy<3.5.0,>=3.4.0->en-core-web-lg==3.4.0) (3.3.0)\n",
      "Requirement already satisfied: setuptools in /opt/conda/lib/python3.9/site-packages (from spacy<3.5.0,>=3.4.0->en-core-web-lg==3.4.0) (61.2.0)\n",
      "Requirement already satisfied: preshed<3.1.0,>=3.0.2 in /opt/conda/lib/python3.9/site-packages (from spacy<3.5.0,>=3.4.0->en-core-web-lg==3.4.0) (3.0.6)\n",
      "Requirement already satisfied: tqdm<5.0.0,>=4.38.0 in /opt/conda/lib/python3.9/site-packages (from spacy<3.5.0,>=3.4.0->en-core-web-lg==3.4.0) (4.64.0)\n",
      "Requirement already satisfied: spacy-legacy<3.1.0,>=3.0.9 in /opt/conda/lib/python3.9/site-packages (from spacy<3.5.0,>=3.4.0->en-core-web-lg==3.4.0) (3.0.10)\n",
      "Requirement already satisfied: jinja2 in /opt/conda/lib/python3.9/site-packages (from spacy<3.5.0,>=3.4.0->en-core-web-lg==3.4.0) (3.0.3)\n",
      "Requirement already satisfied: cymem<2.1.0,>=2.0.2 in /opt/conda/lib/python3.9/site-packages (from spacy<3.5.0,>=3.4.0->en-core-web-lg==3.4.0) (2.0.6)\n",
      "Requirement already satisfied: pydantic!=1.8,!=1.8.1,<1.10.0,>=1.7.4 in /opt/conda/lib/python3.9/site-packages (from spacy<3.5.0,>=3.4.0->en-core-web-lg==3.4.0) (1.9.2)\n",
      "Requirement already satisfied: spacy-loggers<2.0.0,>=1.0.0 in /opt/conda/lib/python3.9/site-packages (from spacy<3.5.0,>=3.4.0->en-core-web-lg==3.4.0) (1.0.3)\n",
      "Requirement already satisfied: srsly<3.0.0,>=2.4.3 in /opt/conda/lib/python3.9/site-packages (from spacy<3.5.0,>=3.4.0->en-core-web-lg==3.4.0) (2.4.4)\n",
      "Requirement already satisfied: wasabi<1.1.0,>=0.9.1 in /opt/conda/lib/python3.9/site-packages (from spacy<3.5.0,>=3.4.0->en-core-web-lg==3.4.0) (0.9.1)\n",
      "Requirement already satisfied: murmurhash<1.1.0,>=0.28.0 in /opt/conda/lib/python3.9/site-packages (from spacy<3.5.0,>=3.4.0->en-core-web-lg==3.4.0) (1.0.7)\n",
      "Requirement already satisfied: typer<0.5.0,>=0.3.0 in /opt/conda/lib/python3.9/site-packages (from spacy<3.5.0,>=3.4.0->en-core-web-lg==3.4.0) (0.4.2)\n",
      "Requirement already satisfied: pyparsing!=3.0.5,>=2.0.2 in /opt/conda/lib/python3.9/site-packages (from packaging>=20.0->spacy<3.5.0,>=3.4.0->en-core-web-lg==3.4.0) (3.0.4)\n",
      "Requirement already satisfied: smart-open<6.0.0,>=5.2.1 in /opt/conda/lib/python3.9/site-packages (from pathy>=0.3.5->spacy<3.5.0,>=3.4.0->en-core-web-lg==3.4.0) (5.2.1)\n",
      "Requirement already satisfied: typing-extensions>=3.7.4.3 in /opt/conda/lib/python3.9/site-packages (from pydantic!=1.8,!=1.8.1,<1.10.0,>=1.7.4->spacy<3.5.0,>=3.4.0->en-core-web-lg==3.4.0) (4.1.1)\n",
      "Requirement already satisfied: idna<4,>=2.5 in /opt/conda/lib/python3.9/site-packages (from requests<3.0.0,>=2.13.0->spacy<3.5.0,>=3.4.0->en-core-web-lg==3.4.0) (3.3)\n",
      "Requirement already satisfied: certifi>=2017.4.17 in /opt/conda/lib/python3.9/site-packages (from requests<3.0.0,>=2.13.0->spacy<3.5.0,>=3.4.0->en-core-web-lg==3.4.0) (2022.5.18.1)\n",
      "Requirement already satisfied: urllib3<1.27,>=1.21.1 in /opt/conda/lib/python3.9/site-packages (from requests<3.0.0,>=2.13.0->spacy<3.5.0,>=3.4.0->en-core-web-lg==3.4.0) (1.26.9)\n",
      "Requirement already satisfied: charset-normalizer~=2.0.0 in /opt/conda/lib/python3.9/site-packages (from requests<3.0.0,>=2.13.0->spacy<3.5.0,>=3.4.0->en-core-web-lg==3.4.0) (2.0.4)\n",
      "Requirement already satisfied: confection<1.0.0,>=0.0.1 in /opt/conda/lib/python3.9/site-packages (from thinc<8.2.0,>=8.1.0->spacy<3.5.0,>=3.4.0->en-core-web-lg==3.4.0) (0.0.1)\n",
      "Requirement already satisfied: blis<0.10.0,>=0.7.8 in /opt/conda/lib/python3.9/site-packages (from thinc<8.2.0,>=8.1.0->spacy<3.5.0,>=3.4.0->en-core-web-lg==3.4.0) (0.9.1)\n",
      "Requirement already satisfied: click<9.0.0,>=7.1.1 in /opt/conda/lib/python3.9/site-packages (from typer<0.5.0,>=0.3.0->spacy<3.5.0,>=3.4.0->en-core-web-lg==3.4.0) (8.0.4)\n",
      "Requirement already satisfied: MarkupSafe>=2.0 in /opt/conda/lib/python3.9/site-packages (from jinja2->spacy<3.5.0,>=3.4.0->en-core-web-lg==3.4.0) (2.1.1)\n",
      "Installing collected packages: en-core-web-lg\n",
      "Successfully installed en-core-web-lg-3.4.0\n",
      "\u001b[38;5;2m✔ Download and installation successful\u001b[0m\n",
      "You can now load the package via spacy.load('en_core_web_lg')\n"
     ]
    }
   ],
   "source": [
    "!python -m spacy download en_core_web_lg"
   ]
  },
  {
   "cell_type": "code",
   "execution_count": 1,
   "id": "1f420a12",
   "metadata": {},
   "outputs": [
    {
     "name": "stdout",
     "output_type": "stream",
     "text": [
      "/bin/bash: /opt/conda/lib/libtinfo.so.6: no version information available (required by /bin/bash)\n",
      "Requirement already satisfied: nltk in /opt/conda/lib/python3.9/site-packages (3.7)\n",
      "Requirement already satisfied: joblib in /opt/conda/lib/python3.9/site-packages (from nltk) (1.1.0)\n",
      "Requirement already satisfied: tqdm in /opt/conda/lib/python3.9/site-packages (from nltk) (4.64.0)\n",
      "Requirement already satisfied: click in /opt/conda/lib/python3.9/site-packages (from nltk) (8.0.4)\n",
      "Requirement already satisfied: regex>=2021.8.3 in /opt/conda/lib/python3.9/site-packages (from nltk) (2022.3.15)\n"
     ]
    }
   ],
   "source": [
    "!pip install nltk"
   ]
  },
  {
   "cell_type": "code",
   "execution_count": 8,
   "id": "820b2eca",
   "metadata": {},
   "outputs": [],
   "source": [
    "# pip install --upgrade pip"
   ]
  },
  {
   "cell_type": "markdown",
   "id": "9ba404e5",
   "metadata": {},
   "source": [
    "# Imports"
   ]
  },
  {
   "cell_type": "code",
   "execution_count": 2,
   "id": "55db332f",
   "metadata": {},
   "outputs": [
    {
     "name": "stderr",
     "output_type": "stream",
     "text": [
      "2022-09-14 21:36:34.475467: W tensorflow/stream_executor/platform/default/dso_loader.cc:64] Could not load dynamic library 'libcuda.so.1'; dlerror: libcuda.so.1: cannot open shared object file: No such file or directory; LD_LIBRARY_PATH: :/opt/conda/lib:\n",
      "2022-09-14 21:36:34.475518: W tensorflow/stream_executor/cuda/cuda_driver.cc:269] failed call to cuInit: UNKNOWN ERROR (303)\n",
      "2022-09-14 21:36:34.475545: I tensorflow/stream_executor/cuda/cuda_diagnostics.cc:156] kernel driver does not appear to be running on this host (84b113f715ac): /proc/driver/nvidia/version does not exist\n"
     ]
    }
   ],
   "source": [
    "import pandas as pd\n",
    "from IPython.display import HTML\n",
    "import spacy\n",
    "import en_core_web_lg\n",
    "import re\n",
    "import nltk\n",
    "import numpy as np\n",
    "from sklearn.feature_extraction.text import CountVectorizer\n",
    "import matplotlib.pyplot as plt\n",
    "import seaborn as sns\n",
    "from wordcloud import WordCloud\n",
    "from vaderSentiment.vaderSentiment import SentimentIntensityAnalyzer\n",
    "from arcgis import GIS\n",
    "import os\n",
    "import bs4"
   ]
  },
  {
   "cell_type": "markdown",
   "id": "a17ac7ef",
   "metadata": {},
   "source": [
    "# Load Data Set"
   ]
  },
  {
   "cell_type": "code",
   "execution_count": 3,
   "id": "8fe9f82b",
   "metadata": {},
   "outputs": [
    {
     "data": {
      "text/html": [
       "<div>\n",
       "<style scoped>\n",
       "    .dataframe tbody tr th:only-of-type {\n",
       "        vertical-align: middle;\n",
       "    }\n",
       "\n",
       "    .dataframe tbody tr th {\n",
       "        vertical-align: top;\n",
       "    }\n",
       "\n",
       "    .dataframe thead th {\n",
       "        text-align: right;\n",
       "    }\n",
       "</style>\n",
       "<table border=\"1\" class=\"dataframe\">\n",
       "  <thead>\n",
       "    <tr style=\"text-align: right;\">\n",
       "      <th></th>\n",
       "      <th>user.id</th>\n",
       "      <th>extended_tweet.full_text</th>\n",
       "      <th>text</th>\n",
       "      <th>place.name</th>\n",
       "      <th>LATITUDE</th>\n",
       "      <th>LONGITUDE</th>\n",
       "      <th>coordinates.coordinates</th>\n",
       "      <th>place.bounding_box.coordinates</th>\n",
       "    </tr>\n",
       "    <tr>\n",
       "      <th>created_at</th>\n",
       "      <th></th>\n",
       "      <th></th>\n",
       "      <th></th>\n",
       "      <th></th>\n",
       "      <th></th>\n",
       "      <th></th>\n",
       "      <th></th>\n",
       "      <th></th>\n",
       "    </tr>\n",
       "  </thead>\n",
       "  <tbody>\n",
       "    <tr>\n",
       "      <th>Thu Jul 26 13:39:37 +0000 2018</th>\n",
       "      <td>9.860000e+17</td>\n",
       "      <td>What’s cooler than being cool? \\n - Ice Cold m...</td>\n",
       "      <td>What’s cooler than being cool? \\n - Ice Cold m...</td>\n",
       "      <td>Poplar</td>\n",
       "      <td>51.519230</td>\n",
       "      <td>-0.076010</td>\n",
       "      <td>[-0.07601,51.51923]</td>\n",
       "      <td>[[[-0.080028,51.48432],[-0.080028,51.545341],[...</td>\n",
       "    </tr>\n",
       "    <tr>\n",
       "      <th>Thu Jul 26 13:40:01 +0000 2018</th>\n",
       "      <td>1.764930e+07</td>\n",
       "      <td>NaN</td>\n",
       "      <td>I'm at @SurreyRugCare in Cheam https://t.co/E5...</td>\n",
       "      <td>Sutton</td>\n",
       "      <td>51.369736</td>\n",
       "      <td>-0.212330</td>\n",
       "      <td>[-0.21233046,51.36973556]</td>\n",
       "      <td>[[[-0.245869,51.330352],[-0.245869,51.393443],...</td>\n",
       "    </tr>\n",
       "    <tr>\n",
       "      <th>Thu Jul 26 13:40:02 +0000 2018</th>\n",
       "      <td>2.147603e+07</td>\n",
       "      <td>NaN</td>\n",
       "      <td>Property Alert: 1 Bedroom Flat For Sale https:...</td>\n",
       "      <td>Harrow</td>\n",
       "      <td>51.579237</td>\n",
       "      <td>-0.332129</td>\n",
       "      <td>[-0.3321287,51.5792375]</td>\n",
       "      <td>[[[-0.403988,51.55309],[-0.403988,51.638576],[...</td>\n",
       "    </tr>\n",
       "    <tr>\n",
       "      <th>Thu Jul 26 13:40:08 +0000 2018</th>\n",
       "      <td>3.014872e+09</td>\n",
       "      <td>Unveiling our new Logo✨ New Logo alert 😉 This ...</td>\n",
       "      <td>Unveiling our new Logo✨ New Logo alert 😉 This ...</td>\n",
       "      <td>Eltham</td>\n",
       "      <td>51.508440</td>\n",
       "      <td>0.123540</td>\n",
       "      <td>[0.1235397,51.5084396]</td>\n",
       "      <td>[[[0.045148,51.423888],[0.045148,51.512916],[0...</td>\n",
       "    </tr>\n",
       "    <tr>\n",
       "      <th>Thu Jul 26 13:40:09 +0000 2018</th>\n",
       "      <td>1.345442e+08</td>\n",
       "      <td>House of Spangled Swimwear. Exclusive printed ...</td>\n",
       "      <td>House of Spangled Swimwear. Exclusive printed ...</td>\n",
       "      <td>London</td>\n",
       "      <td>51.507115</td>\n",
       "      <td>-0.127318</td>\n",
       "      <td>[-0.12731805,51.50711486]</td>\n",
       "      <td>[[[-0.187894,51.483718],[-0.187894,51.516466],...</td>\n",
       "    </tr>\n",
       "  </tbody>\n",
       "</table>\n",
       "</div>"
      ],
      "text/plain": [
       "                                     user.id  \\\n",
       "created_at                                     \n",
       "Thu Jul 26 13:39:37 +0000 2018  9.860000e+17   \n",
       "Thu Jul 26 13:40:01 +0000 2018  1.764930e+07   \n",
       "Thu Jul 26 13:40:02 +0000 2018  2.147603e+07   \n",
       "Thu Jul 26 13:40:08 +0000 2018  3.014872e+09   \n",
       "Thu Jul 26 13:40:09 +0000 2018  1.345442e+08   \n",
       "\n",
       "                                                         extended_tweet.full_text  \\\n",
       "created_at                                                                          \n",
       "Thu Jul 26 13:39:37 +0000 2018  What’s cooler than being cool? \\n - Ice Cold m...   \n",
       "Thu Jul 26 13:40:01 +0000 2018                                                NaN   \n",
       "Thu Jul 26 13:40:02 +0000 2018                                                NaN   \n",
       "Thu Jul 26 13:40:08 +0000 2018  Unveiling our new Logo✨ New Logo alert 😉 This ...   \n",
       "Thu Jul 26 13:40:09 +0000 2018  House of Spangled Swimwear. Exclusive printed ...   \n",
       "\n",
       "                                                                             text  \\\n",
       "created_at                                                                          \n",
       "Thu Jul 26 13:39:37 +0000 2018  What’s cooler than being cool? \\n - Ice Cold m...   \n",
       "Thu Jul 26 13:40:01 +0000 2018  I'm at @SurreyRugCare in Cheam https://t.co/E5...   \n",
       "Thu Jul 26 13:40:02 +0000 2018  Property Alert: 1 Bedroom Flat For Sale https:...   \n",
       "Thu Jul 26 13:40:08 +0000 2018  Unveiling our new Logo✨ New Logo alert 😉 This ...   \n",
       "Thu Jul 26 13:40:09 +0000 2018  House of Spangled Swimwear. Exclusive printed ...   \n",
       "\n",
       "                               place.name   LATITUDE  LONGITUDE  \\\n",
       "created_at                                                        \n",
       "Thu Jul 26 13:39:37 +0000 2018     Poplar  51.519230  -0.076010   \n",
       "Thu Jul 26 13:40:01 +0000 2018     Sutton  51.369736  -0.212330   \n",
       "Thu Jul 26 13:40:02 +0000 2018     Harrow  51.579237  -0.332129   \n",
       "Thu Jul 26 13:40:08 +0000 2018     Eltham  51.508440   0.123540   \n",
       "Thu Jul 26 13:40:09 +0000 2018     London  51.507115  -0.127318   \n",
       "\n",
       "                                  coordinates.coordinates  \\\n",
       "created_at                                                  \n",
       "Thu Jul 26 13:39:37 +0000 2018        [-0.07601,51.51923]   \n",
       "Thu Jul 26 13:40:01 +0000 2018  [-0.21233046,51.36973556]   \n",
       "Thu Jul 26 13:40:02 +0000 2018    [-0.3321287,51.5792375]   \n",
       "Thu Jul 26 13:40:08 +0000 2018     [0.1235397,51.5084396]   \n",
       "Thu Jul 26 13:40:09 +0000 2018  [-0.12731805,51.50711486]   \n",
       "\n",
       "                                                   place.bounding_box.coordinates  \n",
       "created_at                                                                         \n",
       "Thu Jul 26 13:39:37 +0000 2018  [[[-0.080028,51.48432],[-0.080028,51.545341],[...  \n",
       "Thu Jul 26 13:40:01 +0000 2018  [[[-0.245869,51.330352],[-0.245869,51.393443],...  \n",
       "Thu Jul 26 13:40:02 +0000 2018  [[[-0.403988,51.55309],[-0.403988,51.638576],[...  \n",
       "Thu Jul 26 13:40:08 +0000 2018  [[[0.045148,51.423888],[0.045148,51.512916],[0...  \n",
       "Thu Jul 26 13:40:09 +0000 2018  [[[-0.187894,51.483718],[-0.187894,51.516466],...  "
      ]
     },
     "execution_count": 3,
     "metadata": {},
     "output_type": "execute_result"
    }
   ],
   "source": [
    "#Load the dataset as a dataframe\n",
    "raw_df = pd.read_csv('home/london2.csv', index_col=0)\n",
    "raw_df.head()"
   ]
  },
  {
   "cell_type": "markdown",
   "id": "0e11e824",
   "metadata": {},
   "source": [
    "# Pre Processing"
   ]
  },
  {
   "cell_type": "markdown",
   "id": "b8ff0bbf",
   "metadata": {},
   "source": [
    "## Data Cleaning"
   ]
  },
  {
   "cell_type": "code",
   "execution_count": 4,
   "id": "5a4b407d",
   "metadata": {},
   "outputs": [],
   "source": [
    "# Remove data outside of the London\n",
    "raw_df = raw_df[(raw_df['LATITUDE'] > 51.3) & (raw_df['LATITUDE'] < 51.7)]\n",
    "raw_df = raw_df[(raw_df['LONGITUDE'] < 0.2) & (raw_df['LONGITUDE'] > -0.5)]"
   ]
  },
  {
   "cell_type": "code",
   "execution_count": 5,
   "id": "7cf1227e",
   "metadata": {},
   "outputs": [],
   "source": [
    "#Convert text to lower case\n",
    "raw_df['text'] = raw_df['text'].str.lower()"
   ]
  },
  {
   "cell_type": "code",
   "execution_count": 6,
   "id": "cfa25e69",
   "metadata": {},
   "outputs": [
    {
     "data": {
      "text/html": [
       "<div>\n",
       "<style scoped>\n",
       "    .dataframe tbody tr th:only-of-type {\n",
       "        vertical-align: middle;\n",
       "    }\n",
       "\n",
       "    .dataframe tbody tr th {\n",
       "        vertical-align: top;\n",
       "    }\n",
       "\n",
       "    .dataframe thead th {\n",
       "        text-align: right;\n",
       "    }\n",
       "</style>\n",
       "<table border=\"1\" class=\"dataframe\">\n",
       "  <thead>\n",
       "    <tr style=\"text-align: right;\">\n",
       "      <th></th>\n",
       "      <th>user.id</th>\n",
       "      <th>text</th>\n",
       "      <th>place.name</th>\n",
       "      <th>LATITUDE</th>\n",
       "      <th>LONGITUDE</th>\n",
       "      <th>coordinates.coordinates</th>\n",
       "      <th>place.bounding_box.coordinates</th>\n",
       "    </tr>\n",
       "    <tr>\n",
       "      <th>created_at</th>\n",
       "      <th></th>\n",
       "      <th></th>\n",
       "      <th></th>\n",
       "      <th></th>\n",
       "      <th></th>\n",
       "      <th></th>\n",
       "      <th></th>\n",
       "    </tr>\n",
       "  </thead>\n",
       "  <tbody>\n",
       "    <tr>\n",
       "      <th>Thu Jul 26 13:39:37 +0000 2018</th>\n",
       "      <td>9.860000e+17</td>\n",
       "      <td>what’s cooler than being cool? \\n - ice cold m...</td>\n",
       "      <td>Poplar</td>\n",
       "      <td>51.519230</td>\n",
       "      <td>-0.076010</td>\n",
       "      <td>[-0.07601,51.51923]</td>\n",
       "      <td>[[[-0.080028,51.48432],[-0.080028,51.545341],[...</td>\n",
       "    </tr>\n",
       "    <tr>\n",
       "      <th>Thu Jul 26 13:40:01 +0000 2018</th>\n",
       "      <td>1.764930e+07</td>\n",
       "      <td>i'm at @surreyrugcare in cheam https://t.co/e5...</td>\n",
       "      <td>Sutton</td>\n",
       "      <td>51.369736</td>\n",
       "      <td>-0.212330</td>\n",
       "      <td>[-0.21233046,51.36973556]</td>\n",
       "      <td>[[[-0.245869,51.330352],[-0.245869,51.393443],...</td>\n",
       "    </tr>\n",
       "    <tr>\n",
       "      <th>Thu Jul 26 13:40:02 +0000 2018</th>\n",
       "      <td>2.147603e+07</td>\n",
       "      <td>property alert: 1 bedroom flat for sale https:...</td>\n",
       "      <td>Harrow</td>\n",
       "      <td>51.579237</td>\n",
       "      <td>-0.332129</td>\n",
       "      <td>[-0.3321287,51.5792375]</td>\n",
       "      <td>[[[-0.403988,51.55309],[-0.403988,51.638576],[...</td>\n",
       "    </tr>\n",
       "    <tr>\n",
       "      <th>Thu Jul 26 13:40:08 +0000 2018</th>\n",
       "      <td>3.014872e+09</td>\n",
       "      <td>unveiling our new logo✨ new logo alert 😉 this ...</td>\n",
       "      <td>Eltham</td>\n",
       "      <td>51.508440</td>\n",
       "      <td>0.123540</td>\n",
       "      <td>[0.1235397,51.5084396]</td>\n",
       "      <td>[[[0.045148,51.423888],[0.045148,51.512916],[0...</td>\n",
       "    </tr>\n",
       "    <tr>\n",
       "      <th>Thu Jul 26 13:40:09 +0000 2018</th>\n",
       "      <td>1.345442e+08</td>\n",
       "      <td>house of spangled swimwear. exclusive printed ...</td>\n",
       "      <td>London</td>\n",
       "      <td>51.507115</td>\n",
       "      <td>-0.127318</td>\n",
       "      <td>[-0.12731805,51.50711486]</td>\n",
       "      <td>[[[-0.187894,51.483718],[-0.187894,51.516466],...</td>\n",
       "    </tr>\n",
       "    <tr>\n",
       "      <th>...</th>\n",
       "      <td>...</td>\n",
       "      <td>...</td>\n",
       "      <td>...</td>\n",
       "      <td>...</td>\n",
       "      <td>...</td>\n",
       "      <td>...</td>\n",
       "      <td>...</td>\n",
       "    </tr>\n",
       "    <tr>\n",
       "      <th>Thu Jul 26 17:02:14 +0000 2018</th>\n",
       "      <td>2.164407e+09</td>\n",
       "      <td>great client lunch today.  thanks for coming! ...</td>\n",
       "      <td>Paddington</td>\n",
       "      <td>51.516796</td>\n",
       "      <td>-0.136244</td>\n",
       "      <td>[-0.1362441,51.5167961]</td>\n",
       "      <td>[[[-0.21607,51.509879],[-0.21607,51.539792],[-...</td>\n",
       "    </tr>\n",
       "    <tr>\n",
       "      <th>Thu Jul 26 17:02:19 +0000 2018</th>\n",
       "      <td>2.507992e+07</td>\n",
       "      <td>student divyadivya.2015 from #germany working ...</td>\n",
       "      <td>Harrow</td>\n",
       "      <td>51.580735</td>\n",
       "      <td>-0.343059</td>\n",
       "      <td>[-0.343059,51.580735]</td>\n",
       "      <td>[[[-0.403988,51.55309],[-0.403988,51.638576],[...</td>\n",
       "    </tr>\n",
       "    <tr>\n",
       "      <th>Thu Jul 26 17:02:37 +0000 2018</th>\n",
       "      <td>2.507992e+07</td>\n",
       "      <td>day 3 makeup and hair by student divyadivya.20...</td>\n",
       "      <td>Harrow</td>\n",
       "      <td>51.580735</td>\n",
       "      <td>-0.343059</td>\n",
       "      <td>[-0.343059,51.580735]</td>\n",
       "      <td>[[[-0.403988,51.55309],[-0.403988,51.638576],[...</td>\n",
       "    </tr>\n",
       "    <tr>\n",
       "      <th>Thu Jul 26 17:02:58 +0000 2018</th>\n",
       "      <td>2.882536e+09</td>\n",
       "      <td>rain drops required in this heat 😏💧 @nemnemres...</td>\n",
       "      <td>Islington</td>\n",
       "      <td>51.540199</td>\n",
       "      <td>-0.102373</td>\n",
       "      <td>[-0.1023726,51.5401993]</td>\n",
       "      <td>[[[-0.142058,51.518552],[-0.142058,51.575301],...</td>\n",
       "    </tr>\n",
       "    <tr>\n",
       "      <th>Thu Jul 26 17:03:05 +0000 2018</th>\n",
       "      <td>6.264066e+08</td>\n",
       "      <td>rise in unconditional offers prompts call for ...</td>\n",
       "      <td>Eltham</td>\n",
       "      <td>51.483949</td>\n",
       "      <td>0.098877</td>\n",
       "      <td>[0.09887695,51.48394855]</td>\n",
       "      <td>[[[0.045148,51.423888],[0.045148,51.512916],[0...</td>\n",
       "    </tr>\n",
       "  </tbody>\n",
       "</table>\n",
       "<p>228 rows × 7 columns</p>\n",
       "</div>"
      ],
      "text/plain": [
       "                                     user.id  \\\n",
       "created_at                                     \n",
       "Thu Jul 26 13:39:37 +0000 2018  9.860000e+17   \n",
       "Thu Jul 26 13:40:01 +0000 2018  1.764930e+07   \n",
       "Thu Jul 26 13:40:02 +0000 2018  2.147603e+07   \n",
       "Thu Jul 26 13:40:08 +0000 2018  3.014872e+09   \n",
       "Thu Jul 26 13:40:09 +0000 2018  1.345442e+08   \n",
       "...                                      ...   \n",
       "Thu Jul 26 17:02:14 +0000 2018  2.164407e+09   \n",
       "Thu Jul 26 17:02:19 +0000 2018  2.507992e+07   \n",
       "Thu Jul 26 17:02:37 +0000 2018  2.507992e+07   \n",
       "Thu Jul 26 17:02:58 +0000 2018  2.882536e+09   \n",
       "Thu Jul 26 17:03:05 +0000 2018  6.264066e+08   \n",
       "\n",
       "                                                                             text  \\\n",
       "created_at                                                                          \n",
       "Thu Jul 26 13:39:37 +0000 2018  what’s cooler than being cool? \\n - ice cold m...   \n",
       "Thu Jul 26 13:40:01 +0000 2018  i'm at @surreyrugcare in cheam https://t.co/e5...   \n",
       "Thu Jul 26 13:40:02 +0000 2018  property alert: 1 bedroom flat for sale https:...   \n",
       "Thu Jul 26 13:40:08 +0000 2018  unveiling our new logo✨ new logo alert 😉 this ...   \n",
       "Thu Jul 26 13:40:09 +0000 2018  house of spangled swimwear. exclusive printed ...   \n",
       "...                                                                           ...   \n",
       "Thu Jul 26 17:02:14 +0000 2018  great client lunch today.  thanks for coming! ...   \n",
       "Thu Jul 26 17:02:19 +0000 2018  student divyadivya.2015 from #germany working ...   \n",
       "Thu Jul 26 17:02:37 +0000 2018  day 3 makeup and hair by student divyadivya.20...   \n",
       "Thu Jul 26 17:02:58 +0000 2018  rain drops required in this heat 😏💧 @nemnemres...   \n",
       "Thu Jul 26 17:03:05 +0000 2018  rise in unconditional offers prompts call for ...   \n",
       "\n",
       "                                place.name   LATITUDE  LONGITUDE  \\\n",
       "created_at                                                         \n",
       "Thu Jul 26 13:39:37 +0000 2018      Poplar  51.519230  -0.076010   \n",
       "Thu Jul 26 13:40:01 +0000 2018      Sutton  51.369736  -0.212330   \n",
       "Thu Jul 26 13:40:02 +0000 2018      Harrow  51.579237  -0.332129   \n",
       "Thu Jul 26 13:40:08 +0000 2018      Eltham  51.508440   0.123540   \n",
       "Thu Jul 26 13:40:09 +0000 2018      London  51.507115  -0.127318   \n",
       "...                                    ...        ...        ...   \n",
       "Thu Jul 26 17:02:14 +0000 2018  Paddington  51.516796  -0.136244   \n",
       "Thu Jul 26 17:02:19 +0000 2018      Harrow  51.580735  -0.343059   \n",
       "Thu Jul 26 17:02:37 +0000 2018      Harrow  51.580735  -0.343059   \n",
       "Thu Jul 26 17:02:58 +0000 2018   Islington  51.540199  -0.102373   \n",
       "Thu Jul 26 17:03:05 +0000 2018      Eltham  51.483949   0.098877   \n",
       "\n",
       "                                  coordinates.coordinates  \\\n",
       "created_at                                                  \n",
       "Thu Jul 26 13:39:37 +0000 2018        [-0.07601,51.51923]   \n",
       "Thu Jul 26 13:40:01 +0000 2018  [-0.21233046,51.36973556]   \n",
       "Thu Jul 26 13:40:02 +0000 2018    [-0.3321287,51.5792375]   \n",
       "Thu Jul 26 13:40:08 +0000 2018     [0.1235397,51.5084396]   \n",
       "Thu Jul 26 13:40:09 +0000 2018  [-0.12731805,51.50711486]   \n",
       "...                                                   ...   \n",
       "Thu Jul 26 17:02:14 +0000 2018    [-0.1362441,51.5167961]   \n",
       "Thu Jul 26 17:02:19 +0000 2018      [-0.343059,51.580735]   \n",
       "Thu Jul 26 17:02:37 +0000 2018      [-0.343059,51.580735]   \n",
       "Thu Jul 26 17:02:58 +0000 2018    [-0.1023726,51.5401993]   \n",
       "Thu Jul 26 17:03:05 +0000 2018   [0.09887695,51.48394855]   \n",
       "\n",
       "                                                   place.bounding_box.coordinates  \n",
       "created_at                                                                         \n",
       "Thu Jul 26 13:39:37 +0000 2018  [[[-0.080028,51.48432],[-0.080028,51.545341],[...  \n",
       "Thu Jul 26 13:40:01 +0000 2018  [[[-0.245869,51.330352],[-0.245869,51.393443],...  \n",
       "Thu Jul 26 13:40:02 +0000 2018  [[[-0.403988,51.55309],[-0.403988,51.638576],[...  \n",
       "Thu Jul 26 13:40:08 +0000 2018  [[[0.045148,51.423888],[0.045148,51.512916],[0...  \n",
       "Thu Jul 26 13:40:09 +0000 2018  [[[-0.187894,51.483718],[-0.187894,51.516466],...  \n",
       "...                                                                           ...  \n",
       "Thu Jul 26 17:02:14 +0000 2018  [[[-0.21607,51.509879],[-0.21607,51.539792],[-...  \n",
       "Thu Jul 26 17:02:19 +0000 2018  [[[-0.403988,51.55309],[-0.403988,51.638576],[...  \n",
       "Thu Jul 26 17:02:37 +0000 2018  [[[-0.403988,51.55309],[-0.403988,51.638576],[...  \n",
       "Thu Jul 26 17:02:58 +0000 2018  [[[-0.142058,51.518552],[-0.142058,51.575301],...  \n",
       "Thu Jul 26 17:03:05 +0000 2018  [[[0.045148,51.423888],[0.045148,51.512916],[0...  \n",
       "\n",
       "[228 rows x 7 columns]"
      ]
     },
     "execution_count": 6,
     "metadata": {},
     "output_type": "execute_result"
    }
   ],
   "source": [
    "#remove unnesesary columns\n",
    "raw_df = raw_df.drop(['extended_tweet.full_text'],axis=1)\n",
    "raw_df"
   ]
  },
  {
   "cell_type": "markdown",
   "id": "a38c13b2",
   "metadata": {},
   "source": [
    "## Data Quality Assessment"
   ]
  },
  {
   "cell_type": "code",
   "execution_count": 7,
   "id": "ee10d8af",
   "metadata": {
    "scrolled": true
   },
   "outputs": [
    {
     "name": "stdout",
     "output_type": "stream",
     "text": [
      "---------------Information about the dataset----------------\n",
      "\n",
      "<class 'pandas.core.frame.DataFrame'>\n",
      "Index: 228 entries, Thu Jul 26 13:39:37 +0000 2018 to Thu Jul 26 17:03:05 +0000 2018\n",
      "Data columns (total 7 columns):\n",
      " #   Column                          Non-Null Count  Dtype  \n",
      "---  ------                          --------------  -----  \n",
      " 0   user.id                         228 non-null    float64\n",
      " 1   text                            228 non-null    object \n",
      " 2   place.name                      228 non-null    object \n",
      " 3   LATITUDE                        228 non-null    float64\n",
      " 4   LONGITUDE                       228 non-null    float64\n",
      " 5   coordinates.coordinates         228 non-null    object \n",
      " 6   place.bounding_box.coordinates  228 non-null    object \n",
      "dtypes: float64(3), object(4)\n",
      "memory usage: 14.2+ KB\n",
      "None\n",
      "<class 'pandas.core.frame.DataFrame'>\n",
      "Index: 228 entries, Thu Jul 26 13:39:37 +0000 2018 to Thu Jul 26 17:03:05 +0000 2018\n",
      "Data columns (total 7 columns):\n",
      " #   Column                          Non-Null Count  Dtype  \n",
      "---  ------                          --------------  -----  \n",
      " 0   user.id                         228 non-null    int64  \n",
      " 1   text                            228 non-null    object \n",
      " 2   place.name                      228 non-null    object \n",
      " 3   LATITUDE                        228 non-null    float64\n",
      " 4   LONGITUDE                       228 non-null    float64\n",
      " 5   coordinates.coordinates         228 non-null    object \n",
      " 6   place.bounding_box.coordinates  228 non-null    object \n",
      "dtypes: float64(2), int64(1), object(4)\n",
      "memory usage: 14.2+ KB\n",
      "None\n",
      "---------------Duplicated values----------------\n",
      "\n",
      "Duplicated values: 0\n"
     ]
    }
   ],
   "source": [
    "#Check data types\n",
    "print('---------------Information about the dataset----------------\\n')\n",
    "print(raw_df.info())\n",
    "\n",
    "#Change review_score data type to int\n",
    "raw_df['user.id']=raw_df['user.id'].astype(int)\n",
    "print(raw_df.info())\n",
    "\n",
    "# Find Duplicate value count\n",
    "print('---------------Duplicated values----------------\\n')\n",
    "print('Duplicated values:',raw_df.duplicated().sum())"
   ]
  },
  {
   "cell_type": "markdown",
   "id": "c9040b07",
   "metadata": {},
   "source": [
    "## Exploratory Data Analysis"
   ]
  },
  {
   "cell_type": "code",
   "execution_count": 8,
   "id": "68441d4b",
   "metadata": {},
   "outputs": [],
   "source": [
    "#print details of the dataframe\n",
    "def pretty_print_df(value_counts_):\n",
    "  display(HTML(pd.DataFrame(value_counts_).to_html()))"
   ]
  },
  {
   "cell_type": "code",
   "execution_count": 9,
   "id": "ca47c0f4",
   "metadata": {},
   "outputs": [
    {
     "name": "stdout",
     "output_type": "stream",
     "text": [
      "---------------Number of rows and columns in the dataset---------------\n",
      "\n",
      "(228, 7)\n",
      "------------------------------Column names-----------------------------\n",
      "\n",
      "Index(['user.id', 'text', 'place.name', 'LATITUDE', 'LONGITUDE',\n",
      "       'coordinates.coordinates', 'place.bounding_box.coordinates'],\n",
      "      dtype='object')\n",
      "--------------------------------Data types-----------------------------\n",
      "\n",
      "user.id                             int64\n",
      "text                               object\n",
      "place.name                         object\n",
      "LATITUDE                          float64\n",
      "LONGITUDE                         float64\n",
      "coordinates.coordinates            object\n",
      "place.bounding_box.coordinates     object\n",
      "dtype: object\n",
      "----------------------First 10 rows in the dataset---------------------\n",
      "\n",
      "                                           user.id  \\\n",
      "created_at                                           \n",
      "Thu Jul 26 13:39:37 +0000 2018  986000000000000000   \n",
      "Thu Jul 26 13:40:01 +0000 2018            17649300   \n",
      "Thu Jul 26 13:40:02 +0000 2018            21476032   \n",
      "Thu Jul 26 13:40:08 +0000 2018          3014871646   \n",
      "Thu Jul 26 13:40:09 +0000 2018           134544230   \n",
      "Thu Jul 26 13:40:43 +0000 2018           119768841   \n",
      "Thu Jul 26 13:41:37 +0000 2018            55546730   \n",
      "Thu Jul 26 13:41:47 +0000 2018  735000000000000000   \n",
      "Thu Jul 26 13:41:50 +0000 2018           107913509   \n",
      "Thu Jul 26 13:43:45 +0000 2018            40354403   \n",
      "\n",
      "                                                                             text  \\\n",
      "created_at                                                                          \n",
      "Thu Jul 26 13:39:37 +0000 2018  what’s cooler than being cool? \\n - ice cold m...   \n",
      "Thu Jul 26 13:40:01 +0000 2018  i'm at @surreyrugcare in cheam https://t.co/e5...   \n",
      "Thu Jul 26 13:40:02 +0000 2018  property alert: 1 bedroom flat for sale https:...   \n",
      "Thu Jul 26 13:40:08 +0000 2018  unveiling our new logo✨ new logo alert 😉 this ...   \n",
      "Thu Jul 26 13:40:09 +0000 2018  house of spangled swimwear. exclusive printed ...   \n",
      "Thu Jul 26 13:40:43 +0000 2018  bye #london see you again soon!\\n.\\n.\\n#solong...   \n",
      "Thu Jul 26 13:41:37 +0000 2018  our uniform has arrrived. we are going to be l...   \n",
      "Thu Jul 26 13:41:47 +0000 2018  beach waves \\n@daniellemetz16 had done ✅ \\nbea...   \n",
      "Thu Jul 26 13:41:50 +0000 2018  see our latest #london, england #job and click...   \n",
      "Thu Jul 26 13:43:45 +0000 2018  in these one-of-a-kind pieces, i turn my eye t...   \n",
      "\n",
      "                                 place.name   LATITUDE  LONGITUDE  \\\n",
      "created_at                                                          \n",
      "Thu Jul 26 13:39:37 +0000 2018       Poplar  51.519230  -0.076010   \n",
      "Thu Jul 26 13:40:01 +0000 2018       Sutton  51.369736  -0.212330   \n",
      "Thu Jul 26 13:40:02 +0000 2018       Harrow  51.579237  -0.332129   \n",
      "Thu Jul 26 13:40:08 +0000 2018       Eltham  51.508440   0.123540   \n",
      "Thu Jul 26 13:40:09 +0000 2018       London  51.507115  -0.127318   \n",
      "Thu Jul 26 13:40:43 +0000 2018  Camden Town  51.528400  -0.133100   \n",
      "Thu Jul 26 13:41:37 +0000 2018    Islington  51.549217  -0.115249   \n",
      "Thu Jul 26 13:41:47 +0000 2018       Sutton  51.358628  -0.191475   \n",
      "Thu Jul 26 13:41:50 +0000 2018       London  51.507351  -0.127758   \n",
      "Thu Jul 26 13:43:45 +0000 2018     Hounslow  51.492621  -0.266385   \n",
      "\n",
      "                                  coordinates.coordinates  \\\n",
      "created_at                                                  \n",
      "Thu Jul 26 13:39:37 +0000 2018        [-0.07601,51.51923]   \n",
      "Thu Jul 26 13:40:01 +0000 2018  [-0.21233046,51.36973556]   \n",
      "Thu Jul 26 13:40:02 +0000 2018    [-0.3321287,51.5792375]   \n",
      "Thu Jul 26 13:40:08 +0000 2018     [0.1235397,51.5084396]   \n",
      "Thu Jul 26 13:40:09 +0000 2018  [-0.12731805,51.50711486]   \n",
      "Thu Jul 26 13:40:43 +0000 2018          [-0.1331,51.5284]   \n",
      "Thu Jul 26 13:41:37 +0000 2018  [-0.11524916,51.54921729]   \n",
      "Thu Jul 26 13:41:47 +0000 2018  [-0.19147502,51.35862752]   \n",
      "Thu Jul 26 13:41:50 +0000 2018    [-0.1277583,51.5073509]   \n",
      "Thu Jul 26 13:43:45 +0000 2018  [-0.26638456,51.49262065]   \n",
      "\n",
      "                                                   place.bounding_box.coordinates  \n",
      "created_at                                                                         \n",
      "Thu Jul 26 13:39:37 +0000 2018  [[[-0.080028,51.48432],[-0.080028,51.545341],[...  \n",
      "Thu Jul 26 13:40:01 +0000 2018  [[[-0.245869,51.330352],[-0.245869,51.393443],...  \n",
      "Thu Jul 26 13:40:02 +0000 2018  [[[-0.403988,51.55309],[-0.403988,51.638576],[...  \n",
      "Thu Jul 26 13:40:08 +0000 2018  [[[0.045148,51.423888],[0.045148,51.512916],[0...  \n",
      "Thu Jul 26 13:40:09 +0000 2018  [[[-0.187894,51.483718],[-0.187894,51.516466],...  \n",
      "Thu Jul 26 13:40:43 +0000 2018  [[[-0.213503,51.512805],[-0.213503,51.572068],...  \n",
      "Thu Jul 26 13:41:37 +0000 2018  [[[-0.142058,51.518552],[-0.142058,51.575301],...  \n",
      "Thu Jul 26 13:41:47 +0000 2018  [[[-0.245869,51.330352],[-0.245869,51.393443],...  \n",
      "Thu Jul 26 13:41:50 +0000 2018  [[[-0.187894,51.483718],[-0.187894,51.516466],...  \n",
      "Thu Jul 26 13:43:45 +0000 2018  [[[-0.457966,51.420633],[-0.457966,51.502851],...  \n",
      "------------------Stastical information of the dataset--- -------------\n",
      "\n",
      "            user.id    LATITUDE   LONGITUDE\n",
      "count  2.280000e+02  228.000000  228.000000\n",
      "mean   9.510965e+16   51.510556   -0.140137\n",
      "std    2.680447e+17    0.048600    0.094958\n",
      "min    6.203330e+05   51.348258   -0.487731\n",
      "25%    5.661788e+07   51.503737   -0.160149\n",
      "50%    2.679863e+08   51.507351   -0.127318\n",
      "75%    1.973068e+09   51.532696   -0.101589\n",
      "max    9.940000e+17   51.681199    0.123540\n",
      "                     user.id                                            \\\n",
      "                       count          mean           std           min   \n",
      "place.name                                                               \n",
      "Barnet                   5.0  1.404000e+17  3.139439e+17  1.488345e+07   \n",
      "Brent                    2.0  1.773738e+08  1.236032e+08  8.997312e+07   \n",
      "Bromley                  4.0  1.195790e+09  1.270769e+09  1.447152e+07   \n",
      "Camberwell              12.0  3.801993e+08  3.767292e+08  2.179444e+07   \n",
      "Camden Town             17.0  5.473336e+08  1.038060e+09  1.488345e+07   \n",
      "City of London           8.0  3.190000e+17  4.427950e+17  1.443130e+07   \n",
      "Croydon                  1.0  7.380000e+17           NaN  7.380000e+17   \n",
      "Ealing                   1.0  9.274359e+08           NaN  9.274359e+08   \n",
      "East Ham                 2.0  4.936827e+08  5.303192e+08  1.186904e+08   \n",
      "Eltham                   3.0  2.218717e+09  1.378981e+09  6.264066e+08   \n",
      "Greenwich                3.0  1.654793e+09  2.366121e+09  4.561389e+07   \n",
      "Hackney                  8.0  3.580000e+17  4.941544e+17  2.118046e+07   \n",
      "Hammersmith              5.0  1.457351e+09  1.159634e+09  1.302979e+08   \n",
      "Harrow                   5.0  2.435914e+07  1.611705e+06  2.147603e+07   \n",
      "Hillingdon               3.0  3.992919e+08  6.477115e+08  1.621271e+06   \n",
      "Hounslow                 5.0  5.312211e+08  6.576478e+08  4.035440e+07   \n",
      "Islington               15.0  7.422266e+08  1.087634e+09  2.024909e+07   \n",
      "Kensington               3.0  9.906809e+08  1.215101e+09  4.184252e+07   \n",
      "Kingston upon Thames     2.0  3.349085e+08  3.333714e+08  9.917935e+07   \n",
      "Lambeth                  5.0  1.301187e+09  1.986237e+09  1.576716e+07   \n",
      "Lewisham                 1.0  4.943633e+07           NaN  4.943633e+07   \n",
      "London                  69.0  8.988406e+16  2.518664e+17  2.176268e+07   \n",
      "Merton                   2.0  4.694538e+08  0.000000e+00  4.694538e+08   \n",
      "Paddington              10.0  2.466000e+17  3.982510e+17  7.786722e+06   \n",
      "Poplar                   8.0  2.467500e+17  4.568925e+17  1.770477e+07   \n",
      "Richmond                 5.0  3.156088e+08  7.043357e+08  6.203330e+05   \n",
      "Southall                 1.0  1.046208e+08           NaN  1.046208e+08   \n",
      "Stratford                1.0  1.744446e+08           NaN  1.744446e+08   \n",
      "Sutton                   5.0  1.470000e+17  3.287020e+17  1.764930e+07   \n",
      "Tottenham                9.0  3.835556e+17  4.601620e+17  2.784716e+07   \n",
      "Waltham Abbey            1.0  1.275368e+09           NaN  1.275368e+09   \n",
      "Walthamstow              2.0  2.422485e+08  2.388290e+08  7.337091e+07   \n",
      "Wandsworth               4.0  1.232807e+09  1.009341e+09  2.359962e+07   \n",
      "Watford                  1.0  3.025770e+08           NaN  3.025770e+08   \n",
      "\n",
      "                                                                              \\\n",
      "                               25%           50%           75%           max   \n",
      "place.name                                                                     \n",
      "Barnet                1.488345e+07  1.852180e+07  1.085986e+08  7.020000e+17   \n",
      "Brent                 1.336735e+08  1.773738e+08  2.210741e+08  2.647745e+08   \n",
      "Bromley               3.181796e+08  9.560695e+08  1.833680e+09  2.856550e+09   \n",
      "Camberwell            1.302979e+08  2.634256e+08  5.553017e+08  1.375408e+09   \n",
      "Camden Town           5.309020e+07  8.411630e+07  2.518763e+08  3.537812e+09   \n",
      "City of London        9.431755e+07  2.567729e+09  7.860000e+17  9.440000e+17   \n",
      "Croydon               7.380000e+17  7.380000e+17  7.380000e+17  7.380000e+17   \n",
      "Ealing                9.274359e+08  9.274359e+08  9.274359e+08  9.274359e+08   \n",
      "East Ham              3.061865e+08  4.936827e+08  6.811788e+08  8.686750e+08   \n",
      "Eltham                1.820639e+09  3.014872e+09  3.014872e+09  3.014872e+09   \n",
      "Greenwich             2.964078e+08  5.472016e+08  2.459383e+09  4.371563e+09   \n",
      "Hackney               3.283287e+07  1.504778e+09  9.430000e+17  9.680000e+17   \n",
      "Hammersmith           5.699748e+08  1.371430e+09  2.309770e+09  2.905281e+09   \n",
      "Harrow                2.507992e+07  2.507992e+07  2.507992e+07  2.507992e+07   \n",
      "Hillingdon            2.559164e+07  4.956201e+07  5.981272e+08  1.146692e+09   \n",
      "Hounslow              4.035440e+07  7.240555e+07  1.251496e+09  1.251496e+09   \n",
      "Islington             7.204642e+07  3.916286e+08  8.284593e+08  3.546936e+09   \n",
      "Kensington            3.059087e+08  5.699748e+08  1.465100e+09  2.360225e+09   \n",
      "Kingston upon Thames  2.170439e+08  3.349085e+08  4.527731e+08  5.706377e+08   \n",
      "Lambeth               3.141642e+08  5.450632e+08  8.159459e+08  4.814996e+09   \n",
      "Lewisham              4.943633e+07  4.943633e+07  4.943633e+07  4.943633e+07   \n",
      "London                8.771811e+07  2.429471e+08  2.173013e+09  9.940000e+17   \n",
      "Merton                4.694538e+08  4.694538e+08  4.694538e+08  4.694538e+08   \n",
      "Paddington            1.144019e+08  1.326101e+09  5.602500e+17  8.650000e+17   \n",
      "Poplar                1.891474e+08  3.351714e+09  2.465000e+17  9.880000e+17   \n",
      "Richmond              6.203330e+05  6.203330e+05  6.203330e+05  1.575563e+09   \n",
      "Southall              1.046208e+08  1.046208e+08  1.046208e+08  1.046208e+08   \n",
      "Stratford             1.744446e+08  1.744446e+08  1.744446e+08  1.744446e+08   \n",
      "Sutton                2.218157e+08  2.218157e+08  2.435460e+08  7.350000e+17   \n",
      "Tottenham             2.750753e+08  5.450632e+08  8.880000e+17  9.730000e+17   \n",
      "Waltham Abbey         1.275368e+09  1.275368e+09  1.275368e+09  1.275368e+09   \n",
      "Walthamstow           1.578097e+08  2.422485e+08  3.266873e+08  4.111261e+08   \n",
      "Wandsworth            6.629648e+08  1.272431e+09  1.842273e+09  2.362766e+09   \n",
      "Watford               3.025770e+08  3.025770e+08  3.025770e+08  3.025770e+08   \n",
      "\n",
      "                     LATITUDE             ...                       LONGITUDE  \\\n",
      "                        count       mean  ...        75%        max     count   \n",
      "place.name                                ...                                   \n",
      "Barnet                    5.0  51.615376  ...  51.618072  51.648637       5.0   \n",
      "Brent                     2.0  51.554949  ...  51.556188  51.557428       2.0   \n",
      "Bromley                   4.0  51.391529  ...  51.404167  51.416667       4.0   \n",
      "Camberwell               12.0  51.501341  ...  51.505479  51.508315      12.0   \n",
      "Camden Town              17.0  51.535362  ...  51.543225  51.557442      17.0   \n",
      "City of London            8.0  51.514995  ...  51.516217  51.518067       8.0   \n",
      "Croydon                   1.0  51.403757  ...  51.403757  51.403757       1.0   \n",
      "Ealing                    1.0  51.514683  ...  51.514683  51.514683       1.0   \n",
      "East Ham                  2.0  51.532706  ...  51.532706  51.532706       2.0   \n",
      "Eltham                    3.0  51.500276  ...  51.508440  51.508440       3.0   \n",
      "Greenwich                 3.0  51.493990  ...  51.502471  51.502588       3.0   \n",
      "Hackney                   8.0  51.539286  ...  51.544274  51.552421       8.0   \n",
      "Hammersmith               5.0  51.484707  ...  51.490556  51.507607       5.0   \n",
      "Harrow                    5.0  51.580436  ...  51.580735  51.580735       5.0   \n",
      "Hillingdon                3.0  51.504488  ...  51.521186  51.570500       3.0   \n",
      "Hounslow                  5.0  51.478340  ...  51.492621  51.492621       5.0   \n",
      "Islington                15.0  51.539150  ...  51.547777  51.552823      15.0   \n",
      "Kensington                3.0  51.491212  ...  51.495668  51.496662       3.0   \n",
      "Kingston upon Thames      2.0  51.372359  ...  51.384410  51.396460       2.0   \n",
      "Lambeth                   5.0  51.489820  ...  51.503092  51.507200       5.0   \n",
      "Lewisham                  1.0  51.474381  ...  51.474381  51.474381       1.0   \n",
      "London                   69.0  51.506625  ...  51.507351  51.514407      69.0   \n",
      "Merton                    2.0  51.396667  ...  51.396667  51.396667       2.0   \n",
      "Paddington               10.0  51.520122  ...  51.522262  51.529643      10.0   \n",
      "Poplar                    8.0  51.508820  ...  51.512199  51.519230       8.0   \n",
      "Richmond                  5.0  51.439568  ...  51.438467  51.444200       5.0   \n",
      "Southall                  1.0  51.533777  ...  51.533777  51.533777       1.0   \n",
      "Stratford                 1.0  51.542300  ...  51.542300  51.542300       1.0   \n",
      "Sutton                    5.0  51.368657  ...  51.369736  51.380520       5.0   \n",
      "Tottenham                 9.0  51.584216  ...  51.583030  51.602612       9.0   \n",
      "Waltham Abbey             1.0  51.681199  ...  51.681199  51.681199       1.0   \n",
      "Walthamstow               2.0  51.572420  ...  51.581450  51.590480       2.0   \n",
      "Wandsworth                4.0  51.451929  ...  51.461306  51.468230       4.0   \n",
      "Watford                   1.0  51.644556  ...  51.644556  51.644556       1.0   \n",
      "\n",
      "                                                                        \\\n",
      "                          mean       std       min       25%       50%   \n",
      "place.name                                                               \n",
      "Barnet               -0.198529  0.014581 -0.223007 -0.198339 -0.195916   \n",
      "Brent                -0.288454  0.009310 -0.295038 -0.291746 -0.288454   \n",
      "Bromley               0.038747  0.051337 -0.033333  0.029167  0.050000   \n",
      "Camberwell           -0.091126  0.011084 -0.105400 -0.099804 -0.091705   \n",
      "Camden Town          -0.143905  0.019915 -0.179226 -0.148001 -0.141995   \n",
      "City of London       -0.088922  0.008139 -0.103173 -0.093689 -0.088884   \n",
      "Croydon              -0.119112       NaN -0.119112 -0.119112 -0.119112   \n",
      "Ealing               -0.301320       NaN -0.301320 -0.301320 -0.301320   \n",
      "East Ham              0.055242  0.000000  0.055242  0.055242  0.055242   \n",
      "Eltham                0.115319  0.014239  0.098877  0.111208  0.123540   \n",
      "Greenwich             0.009770  0.009092  0.004359  0.004521  0.004683   \n",
      "Hackney              -0.076761  0.007655 -0.083333 -0.081486 -0.078863   \n",
      "Hammersmith          -0.196515  0.020021 -0.222709 -0.213611 -0.182339   \n",
      "Harrow               -0.340873  0.004888 -0.343059 -0.343059 -0.343059   \n",
      "Hillingdon           -0.452872  0.038333 -0.487731 -0.473398 -0.459065   \n",
      "Hounslow             -0.315200  0.049295 -0.364952 -0.364952 -0.313327   \n",
      "Islington            -0.105411  0.012063 -0.120260 -0.115377 -0.105572   \n",
      "Kensington           -0.173103  0.001078 -0.174324 -0.173512 -0.172700   \n",
      "Kingston upon Thames -0.314636  0.004464 -0.317793 -0.316215 -0.314636   \n",
      "Lambeth              -0.115555  0.005272 -0.122216 -0.116667 -0.115732   \n",
      "Lewisham             -0.036465       NaN -0.036465 -0.036465 -0.036465   \n",
      "London               -0.135451  0.044028 -0.487560 -0.127758 -0.127318   \n",
      "Merton               -0.237222  0.000000 -0.237222 -0.237222 -0.237222   \n",
      "Paddington           -0.151270  0.010355 -0.172079 -0.157193 -0.149741   \n",
      "Poplar               -0.040368  0.028894 -0.077980 -0.072684 -0.020240   \n",
      "Richmond             -0.319888  0.014476 -0.345782 -0.313491 -0.313491   \n",
      "Southall             -0.320221       NaN -0.320221 -0.320221 -0.320221   \n",
      "Stratford            -0.002561       NaN -0.002561 -0.002561 -0.002561   \n",
      "Sutton               -0.185977  0.019089 -0.212330 -0.191580 -0.191475   \n",
      "Tottenham            -0.114025  0.028361 -0.146213 -0.142790 -0.110936   \n",
      "Waltham Abbey        -0.004180       NaN -0.004180 -0.004180 -0.004180   \n",
      "Walthamstow          -0.026561  0.014567 -0.036861 -0.031711 -0.026561   \n",
      "Wandsworth           -0.188617  0.026060 -0.223364 -0.200584 -0.183413   \n",
      "Watford              -0.424812       NaN -0.424812 -0.424812 -0.424812   \n",
      "\n",
      "                                          \n",
      "                           75%       max  \n",
      "place.name                                \n",
      "Barnet               -0.189859 -0.185523  \n",
      "Brent                -0.285163 -0.281871  \n",
      "Bromley               0.059580  0.088320  \n",
      "Camberwell           -0.080678 -0.075585  \n",
      "Camden Town          -0.134338 -0.108709  \n",
      "City of London       -0.082222 -0.079268  \n",
      "Croydon              -0.119112 -0.119112  \n",
      "Ealing               -0.301320 -0.301320  \n",
      "East Ham              0.055242  0.055242  \n",
      "Eltham                0.123540  0.123540  \n",
      "Greenwich             0.012475  0.020267  \n",
      "Hackney              -0.075234 -0.059486  \n",
      "Hammersmith          -0.182298 -0.181618  \n",
      "Harrow               -0.343059 -0.332129  \n",
      "Hillingdon           -0.435443 -0.411820  \n",
      "Hounslow             -0.266385 -0.266385  \n",
      "Islington            -0.097345 -0.086782  \n",
      "Kensington           -0.172492 -0.172285  \n",
      "Kingston upon Thames -0.313058 -0.311480  \n",
      "Lambeth              -0.115700 -0.107461  \n",
      "Lewisham             -0.036465 -0.036465  \n",
      "London               -0.127318 -0.120308  \n",
      "Merton               -0.237222 -0.237222  \n",
      "Paddington           -0.143975 -0.136244  \n",
      "Poplar               -0.019338 -0.018260  \n",
      "Richmond             -0.313480 -0.313197  \n",
      "Southall             -0.320221 -0.320221  \n",
      "Stratford            -0.002561 -0.002561  \n",
      "Sutton               -0.167250 -0.167250  \n",
      "Tottenham            -0.103809 -0.065190  \n",
      "Waltham Abbey        -0.004180 -0.004180  \n",
      "Walthamstow          -0.021410 -0.016260  \n",
      "Wandsworth           -0.171446 -0.164279  \n",
      "Watford              -0.424812 -0.424812  \n",
      "\n",
      "[34 rows x 24 columns]\n",
      "---------------------------Missing value counts------------------------\n",
      "\n",
      "\n",
      "Missing values\n",
      "\n",
      "user.id                           0\n",
      "text                              0\n",
      "place.name                        0\n",
      "LATITUDE                          0\n",
      "LONGITUDE                         0\n",
      "coordinates.coordinates           0\n",
      "place.bounding_box.coordinates    0\n",
      "dtype: int64\n"
     ]
    }
   ],
   "source": [
    "#Find no of rows and columns in the dataset\n",
    "print('---------------Number of rows and columns in the dataset---------------\\n')\n",
    "print(raw_df.shape)\n",
    "#Find all column names\n",
    "print('------------------------------Column names-----------------------------\\n')\n",
    "print(raw_df.columns)\n",
    "#Find the datatype of each column\n",
    "print('--------------------------------Data types-----------------------------\\n')\n",
    "print(raw_df.dtypes)\n",
    "#Print first 10 rows\n",
    "print('----------------------First 10 rows in the dataset---------------------\\n')\n",
    "print(raw_df.head(10))\n",
    "#Find the mean, max and other numarical calculation in numerical data columns\n",
    "print('------------------Stastical information of the dataset--- -------------\\n')\n",
    "print(raw_df.describe())\n",
    "print(raw_df.groupby('place.name').describe())\n",
    "\n",
    "# Find Missing data value count \n",
    "print('---------------------------Missing value counts------------------------\\n')\n",
    "print('\\nMissing values\\n')\n",
    "print(raw_df.isnull().sum())"
   ]
  },
  {
   "cell_type": "code",
   "execution_count": 10,
   "id": "56fad5d5",
   "metadata": {},
   "outputs": [],
   "source": [
    "df = raw_df.copy()"
   ]
  },
  {
   "cell_type": "markdown",
   "id": "34d2fe7d",
   "metadata": {},
   "source": [
    "# Text Cleaning"
   ]
  },
  {
   "cell_type": "code",
   "execution_count": 11,
   "id": "a2974b8b",
   "metadata": {},
   "outputs": [],
   "source": [
    "def decontracted(sentence):\n",
    "  sentence = re.sub(r\"won't\", \"will not\", sentence)\n",
    "  sentence = re.sub(r\"can\\'t\", \"can not\", sentence)\n",
    "  sentence = re.sub(r\"n\\'t\", \" not\", sentence)\n",
    "  sentence = re.sub(r\"\\'re\", \" are\", sentence)\n",
    "  sentence = re.sub(r\"\\'s\", \" is\", sentence)\n",
    "  sentence = re.sub(r\"\\'d\", \" would\", sentence)\n",
    "  sentence = re.sub(r\"\\'ll\", \" will\", sentence)\n",
    "  sentence = re.sub(r\"\\'t\", \" not\", sentence)\n",
    "  sentence = re.sub(r\"\\'ve\", \" have\", sentence)\n",
    "  sentence = re.sub(r\"\\'m\", \" am\", sentence)\n",
    "  return sentence"
   ]
  },
  {
   "cell_type": "code",
   "execution_count": 12,
   "id": "54ad8d03",
   "metadata": {},
   "outputs": [],
   "source": [
    "# Create an NLP pipeline\n",
    "nlp = spacy.load('en_core_web_lg')\n",
    "\n",
    "def textcleaning(column):\n",
    "  tk = decontracted(column)\n",
    "  # Remove stopword, punctuations, tokenization and lemmatization\n",
    "  col2 = [w.lemma_ for w in nlp(tk)if not (w.is_stop) or (w.is_punct)]\n",
    "  return (\" \".join(col2))"
   ]
  },
  {
   "cell_type": "code",
   "execution_count": 13,
   "id": "09ffea33",
   "metadata": {},
   "outputs": [],
   "source": [
    "df['text'] = df['text'].apply(lambda x: textcleaning(x))"
   ]
  },
  {
   "cell_type": "code",
   "execution_count": 14,
   "id": "0eb29dd1",
   "metadata": {},
   "outputs": [],
   "source": [
    "#Remove html tags\n",
    "df['text']=df['text'].replace(r'<[^<>]*>', '', regex=True)\n",
    "#Remove special characters\n",
    "df['text']=df['text'].replace(r'[^A-Za-z0-9 ]+', '', regex=True)\n",
    "#Remove web tags\n",
    "df['text']=df['text'].replace(r'{html}', '', regex=True)\n",
    "#Remove web urls\n",
    "df['text']=df['text'].replace(r'http\\S+', '', regex=True)\n",
    "#Remove numbers\n",
    "df['text']=df['text'].replace(r'[0-9]+', '', regex=True)\n",
    "#remove emails\n",
    "df['text']=df['text'].replace(r'\\S*@\\S*\\s?', '', regex=True)\n",
    "#remove unnessary white spaces\n",
    "df['text']=df['text'].replace(r'\\s\\s+', '', regex=True)\n",
    "#Remove empty text rows\n",
    "df = df.loc[df['text'] != '']"
   ]
  },
  {
   "cell_type": "markdown",
   "id": "080dab70",
   "metadata": {},
   "source": [
    "## EDA for Text data"
   ]
  },
  {
   "cell_type": "code",
   "execution_count": 15,
   "id": "2b7f1ce5",
   "metadata": {},
   "outputs": [],
   "source": [
    "df.index = pd.to_datetime(df.index)"
   ]
  },
  {
   "cell_type": "code",
   "execution_count": 16,
   "id": "e047b18e",
   "metadata": {},
   "outputs": [],
   "source": [
    "# Separate dataset according to the peak and off-peak hours\n",
    "df1 = df.between_time('16:00', '18:59')\n",
    "df2 = df.between_time('6:30', '9:29')\n",
    "peak1 = [df1,df2]\n",
    "peak = pd.concat(peak1)\n",
    "df3 = df.between_time('9:30', '15:59')\n",
    "df4 = df.between_time('19:00', '6:30')\n",
    "off_peak1 = [df3,df4]\n",
    "off_peak = pd.concat(off_peak1)"
   ]
  },
  {
   "cell_type": "code",
   "execution_count": 17,
   "id": "056494ae",
   "metadata": {},
   "outputs": [
    {
     "data": {
      "text/html": [
       "<div>\n",
       "<style scoped>\n",
       "    .dataframe tbody tr th:only-of-type {\n",
       "        vertical-align: middle;\n",
       "    }\n",
       "\n",
       "    .dataframe tbody tr th {\n",
       "        vertical-align: top;\n",
       "    }\n",
       "\n",
       "    .dataframe thead th {\n",
       "        text-align: right;\n",
       "    }\n",
       "</style>\n",
       "<table border=\"1\" class=\"dataframe\">\n",
       "  <thead>\n",
       "    <tr style=\"text-align: right;\">\n",
       "      <th></th>\n",
       "      <th>user.id</th>\n",
       "      <th>text</th>\n",
       "      <th>place.name</th>\n",
       "      <th>LATITUDE</th>\n",
       "      <th>LONGITUDE</th>\n",
       "      <th>coordinates.coordinates</th>\n",
       "      <th>place.bounding_box.coordinates</th>\n",
       "    </tr>\n",
       "    <tr>\n",
       "      <th>created_at</th>\n",
       "      <th></th>\n",
       "      <th></th>\n",
       "      <th></th>\n",
       "      <th></th>\n",
       "      <th></th>\n",
       "      <th></th>\n",
       "      <th></th>\n",
       "    </tr>\n",
       "  </thead>\n",
       "  <tbody>\n",
       "    <tr>\n",
       "      <th>2018-07-26 13:39:37+00:00</th>\n",
       "      <td>986000000000000000</td>\n",
       "      <td>cool coolice cold matcha lattesimple n delishm...</td>\n",
       "      <td>Poplar</td>\n",
       "      <td>51.519230</td>\n",
       "      <td>-0.076010</td>\n",
       "      <td>[-0.07601,51.51923]</td>\n",
       "      <td>[[[-0.080028,51.48432],[-0.080028,51.545341],[...</td>\n",
       "    </tr>\n",
       "    <tr>\n",
       "      <th>2018-07-26 13:40:01+00:00</th>\n",
       "      <td>17649300</td>\n",
       "      <td>surreyrugcare cheam</td>\n",
       "      <td>Sutton</td>\n",
       "      <td>51.369736</td>\n",
       "      <td>-0.212330</td>\n",
       "      <td>[-0.21233046,51.36973556]</td>\n",
       "      <td>[[[-0.245869,51.330352],[-0.245869,51.393443],...</td>\n",
       "    </tr>\n",
       "    <tr>\n",
       "      <th>2018-07-26 13:40:02+00:00</th>\n",
       "      <td>21476032</td>\n",
       "      <td>property alertbedroom flat salegaytonroadharrowha</td>\n",
       "      <td>Harrow</td>\n",
       "      <td>51.579237</td>\n",
       "      <td>-0.332129</td>\n",
       "      <td>[-0.3321287,51.5792375]</td>\n",
       "      <td>[[[-0.403988,51.55309],[-0.403988,51.638576],[...</td>\n",
       "    </tr>\n",
       "    <tr>\n",
       "      <th>2018-07-26 13:40:08+00:00</th>\n",
       "      <td>3014871646</td>\n",
       "      <td>unveil new logonew logo alertnew logo look lik...</td>\n",
       "      <td>Eltham</td>\n",
       "      <td>51.508440</td>\n",
       "      <td>0.123540</td>\n",
       "      <td>[0.1235397,51.5084396]</td>\n",
       "      <td>[[[0.045148,51.423888],[0.045148,51.512916],[0...</td>\n",
       "    </tr>\n",
       "    <tr>\n",
       "      <th>2018-07-26 13:40:09+00:00</th>\n",
       "      <td>134544230</td>\n",
       "      <td>house spangle swimwearexclusive print apparell...</td>\n",
       "      <td>London</td>\n",
       "      <td>51.507115</td>\n",
       "      <td>-0.127318</td>\n",
       "      <td>[-0.12731805,51.50711486]</td>\n",
       "      <td>[[[-0.187894,51.483718],[-0.187894,51.516466],...</td>\n",
       "    </tr>\n",
       "    <tr>\n",
       "      <th>...</th>\n",
       "      <td>...</td>\n",
       "      <td>...</td>\n",
       "      <td>...</td>\n",
       "      <td>...</td>\n",
       "      <td>...</td>\n",
       "      <td>...</td>\n",
       "      <td>...</td>\n",
       "    </tr>\n",
       "    <tr>\n",
       "      <th>2018-07-26 17:02:14+00:00</th>\n",
       "      <td>2164406816</td>\n",
       "      <td>great client lunch todaythank comepropertyprop...</td>\n",
       "      <td>Paddington</td>\n",
       "      <td>51.516796</td>\n",
       "      <td>-0.136244</td>\n",
       "      <td>[-0.1362441,51.5167961]</td>\n",
       "      <td>[[[-0.21607,51.509879],[-0.21607,51.539792],[-...</td>\n",
       "    </tr>\n",
       "    <tr>\n",
       "      <th>2018-07-26 17:02:19+00:00</th>\n",
       "      <td>25079915</td>\n",
       "      <td>student divyadivyagermany work hard daymakeupm...</td>\n",
       "      <td>Harrow</td>\n",
       "      <td>51.580735</td>\n",
       "      <td>-0.343059</td>\n",
       "      <td>[-0.343059,51.580735]</td>\n",
       "      <td>[[[-0.403988,51.55309],[-0.403988,51.638576],[...</td>\n",
       "    </tr>\n",
       "    <tr>\n",
       "      <th>2018-07-26 17:02:37+00:00</th>\n",
       "      <td>25079915</td>\n",
       "      <td>daymakeup hair student divyadivya model payals...</td>\n",
       "      <td>Harrow</td>\n",
       "      <td>51.580735</td>\n",
       "      <td>-0.343059</td>\n",
       "      <td>[-0.343059,51.580735]</td>\n",
       "      <td>[[[-0.403988,51.55309],[-0.403988,51.638576],[...</td>\n",
       "    </tr>\n",
       "    <tr>\n",
       "      <th>2018-07-26 17:02:58+00:00</th>\n",
       "      <td>2882536427</td>\n",
       "      <td>rain drop require heatnemnemrestaurafreshmikee...</td>\n",
       "      <td>Islington</td>\n",
       "      <td>51.540199</td>\n",
       "      <td>-0.102373</td>\n",
       "      <td>[-0.1023726,51.5401993]</td>\n",
       "      <td>[[[-0.142058,51.518552],[-0.142058,51.575301],...</td>\n",
       "    </tr>\n",
       "    <tr>\n",
       "      <th>2018-07-26 17:03:05+00:00</th>\n",
       "      <td>626406631</td>\n",
       "      <td>rise unconditional offer prompt university adm...</td>\n",
       "      <td>Eltham</td>\n",
       "      <td>51.483949</td>\n",
       "      <td>0.098877</td>\n",
       "      <td>[0.09887695,51.48394855]</td>\n",
       "      <td>[[[0.045148,51.423888],[0.045148,51.512916],[0...</td>\n",
       "    </tr>\n",
       "  </tbody>\n",
       "</table>\n",
       "<p>228 rows × 7 columns</p>\n",
       "</div>"
      ],
      "text/plain": [
       "                                      user.id  \\\n",
       "created_at                                      \n",
       "2018-07-26 13:39:37+00:00  986000000000000000   \n",
       "2018-07-26 13:40:01+00:00            17649300   \n",
       "2018-07-26 13:40:02+00:00            21476032   \n",
       "2018-07-26 13:40:08+00:00          3014871646   \n",
       "2018-07-26 13:40:09+00:00           134544230   \n",
       "...                                       ...   \n",
       "2018-07-26 17:02:14+00:00          2164406816   \n",
       "2018-07-26 17:02:19+00:00            25079915   \n",
       "2018-07-26 17:02:37+00:00            25079915   \n",
       "2018-07-26 17:02:58+00:00          2882536427   \n",
       "2018-07-26 17:03:05+00:00           626406631   \n",
       "\n",
       "                                                                        text  \\\n",
       "created_at                                                                     \n",
       "2018-07-26 13:39:37+00:00  cool coolice cold matcha lattesimple n delishm...   \n",
       "2018-07-26 13:40:01+00:00                               surreyrugcare cheam    \n",
       "2018-07-26 13:40:02+00:00  property alertbedroom flat salegaytonroadharrowha   \n",
       "2018-07-26 13:40:08+00:00  unveil new logonew logo alertnew logo look lik...   \n",
       "2018-07-26 13:40:09+00:00  house spangle swimwearexclusive print apparell...   \n",
       "...                                                                      ...   \n",
       "2018-07-26 17:02:14+00:00  great client lunch todaythank comepropertyprop...   \n",
       "2018-07-26 17:02:19+00:00  student divyadivyagermany work hard daymakeupm...   \n",
       "2018-07-26 17:02:37+00:00  daymakeup hair student divyadivya model payals...   \n",
       "2018-07-26 17:02:58+00:00  rain drop require heatnemnemrestaurafreshmikee...   \n",
       "2018-07-26 17:03:05+00:00  rise unconditional offer prompt university adm...   \n",
       "\n",
       "                           place.name   LATITUDE  LONGITUDE  \\\n",
       "created_at                                                    \n",
       "2018-07-26 13:39:37+00:00      Poplar  51.519230  -0.076010   \n",
       "2018-07-26 13:40:01+00:00      Sutton  51.369736  -0.212330   \n",
       "2018-07-26 13:40:02+00:00      Harrow  51.579237  -0.332129   \n",
       "2018-07-26 13:40:08+00:00      Eltham  51.508440   0.123540   \n",
       "2018-07-26 13:40:09+00:00      London  51.507115  -0.127318   \n",
       "...                               ...        ...        ...   \n",
       "2018-07-26 17:02:14+00:00  Paddington  51.516796  -0.136244   \n",
       "2018-07-26 17:02:19+00:00      Harrow  51.580735  -0.343059   \n",
       "2018-07-26 17:02:37+00:00      Harrow  51.580735  -0.343059   \n",
       "2018-07-26 17:02:58+00:00   Islington  51.540199  -0.102373   \n",
       "2018-07-26 17:03:05+00:00      Eltham  51.483949   0.098877   \n",
       "\n",
       "                             coordinates.coordinates  \\\n",
       "created_at                                             \n",
       "2018-07-26 13:39:37+00:00        [-0.07601,51.51923]   \n",
       "2018-07-26 13:40:01+00:00  [-0.21233046,51.36973556]   \n",
       "2018-07-26 13:40:02+00:00    [-0.3321287,51.5792375]   \n",
       "2018-07-26 13:40:08+00:00     [0.1235397,51.5084396]   \n",
       "2018-07-26 13:40:09+00:00  [-0.12731805,51.50711486]   \n",
       "...                                              ...   \n",
       "2018-07-26 17:02:14+00:00    [-0.1362441,51.5167961]   \n",
       "2018-07-26 17:02:19+00:00      [-0.343059,51.580735]   \n",
       "2018-07-26 17:02:37+00:00      [-0.343059,51.580735]   \n",
       "2018-07-26 17:02:58+00:00    [-0.1023726,51.5401993]   \n",
       "2018-07-26 17:03:05+00:00   [0.09887695,51.48394855]   \n",
       "\n",
       "                                              place.bounding_box.coordinates  \n",
       "created_at                                                                    \n",
       "2018-07-26 13:39:37+00:00  [[[-0.080028,51.48432],[-0.080028,51.545341],[...  \n",
       "2018-07-26 13:40:01+00:00  [[[-0.245869,51.330352],[-0.245869,51.393443],...  \n",
       "2018-07-26 13:40:02+00:00  [[[-0.403988,51.55309],[-0.403988,51.638576],[...  \n",
       "2018-07-26 13:40:08+00:00  [[[0.045148,51.423888],[0.045148,51.512916],[0...  \n",
       "2018-07-26 13:40:09+00:00  [[[-0.187894,51.483718],[-0.187894,51.516466],...  \n",
       "...                                                                      ...  \n",
       "2018-07-26 17:02:14+00:00  [[[-0.21607,51.509879],[-0.21607,51.539792],[-...  \n",
       "2018-07-26 17:02:19+00:00  [[[-0.403988,51.55309],[-0.403988,51.638576],[...  \n",
       "2018-07-26 17:02:37+00:00  [[[-0.403988,51.55309],[-0.403988,51.638576],[...  \n",
       "2018-07-26 17:02:58+00:00  [[[-0.142058,51.518552],[-0.142058,51.575301],...  \n",
       "2018-07-26 17:03:05+00:00  [[[0.045148,51.423888],[0.045148,51.512916],[0...  \n",
       "\n",
       "[228 rows x 7 columns]"
      ]
     },
     "execution_count": 17,
     "metadata": {},
     "output_type": "execute_result"
    }
   ],
   "source": [
    "df"
   ]
  },
  {
   "cell_type": "code",
   "execution_count": 18,
   "id": "4962aa48",
   "metadata": {},
   "outputs": [
    {
     "name": "stderr",
     "output_type": "stream",
     "text": [
      "[nltk_data] Downloading package punkt to /home/arcgis/nltk_data...\n",
      "[nltk_data]   Unzipping tokenizers/punkt.zip.\n"
     ]
    }
   ],
   "source": [
    "#tokenization\n",
    "nltk.download('punkt')\n",
    "\n",
    "token_lengths= []\n",
    "all_tokens =[]\n",
    "peak_tokens = []\n",
    "off_peak_tokens= []\n",
    "for item in df.values:\n",
    "  token_lengths.append(len(item[1]))\n",
    "  tokens = nltk.word_tokenize(item[1])\n",
    "  all_tokens.append(tokens)\n",
    "\n",
    "for item in peak.values:\n",
    "  tokens = nltk.word_tokenize(item[1])\n",
    "  peak_tokens.append(tokens)\n",
    "\n",
    "for item in off_peak.values:\n",
    "  tokens = nltk.word_tokenize(item[1])\n",
    "  off_peak_tokens.append(tokens)"
   ]
  },
  {
   "cell_type": "code",
   "execution_count": 19,
   "id": "2aa6795a",
   "metadata": {},
   "outputs": [
    {
     "name": "stdout",
     "output_type": "stream",
     "text": [
      "------------------------Token length exploration------------------------\n",
      "\n",
      "Minimum number of tokens:  16\n",
      "Maximum number of tokens:  103\n"
     ]
    }
   ],
   "source": [
    "print('------------------------Token length exploration------------------------\\n')\n",
    "print('Minimum number of tokens: ', np.min((token_lengths)))\n",
    "print('Maximum number of tokens: ', np.max(token_lengths))"
   ]
  },
  {
   "cell_type": "markdown",
   "id": "e33fa04d",
   "metadata": {},
   "source": [
    "# NLP Methodology"
   ]
  },
  {
   "cell_type": "markdown",
   "id": "46daae6a",
   "metadata": {},
   "source": [
    "## Frequency Analysis"
   ]
  },
  {
   "cell_type": "code",
   "execution_count": 20,
   "id": "d5984d13",
   "metadata": {},
   "outputs": [],
   "source": [
    "def tokenize_as_is(x):\n",
    "  return x\n",
    "\n",
    "# define a function to get the most frequent ngrams\n",
    "def get_top_ngram(spacy_tokenized_corpus, ngram_range=(2,2), top_n= 50):\n",
    "    vec = CountVectorizer(ngram_range=ngram_range, max_features=top_n, lowercase=False,\n",
    "                          tokenizer=tokenize_as_is).fit(spacy_tokenized_corpus)\n",
    "    # get a vector for each document\n",
    "    bag_of_words = vec.transform(spacy_tokenized_corpus)\n",
    "    vec2 = CountVectorizer(ngram_range=ngram_range, lowercase=False,\n",
    "                          tokenizer=tokenize_as_is).fit(spacy_tokenized_corpus)\n",
    "    print(f\"\\n The number of features in the vocabulary is {len(vec2.get_feature_names_out())}\")\n",
    "    sum_words = bag_of_words.sum(axis=0) \n",
    "    words_freq = [(word, sum_words[0, idx]) \n",
    "                  for word, idx in vec.vocabulary_.items()]\n",
    "    words_freq =sorted(words_freq, key = lambda x: x[1], reverse=True)\n",
    "    return bag_of_words, words_freq"
   ]
  },
  {
   "cell_type": "code",
   "execution_count": 21,
   "id": "230d7ccc",
   "metadata": {},
   "outputs": [
    {
     "name": "stdout",
     "output_type": "stream",
     "text": [
      "\n",
      " The number of features in the vocabulary is 1092\n"
     ]
    },
    {
     "name": "stderr",
     "output_type": "stream",
     "text": [
      "/opt/conda/lib/python3.9/site-packages/sklearn/feature_extraction/text.py:516: UserWarning: The parameter 'token_pattern' will not be used since 'tokenizer' is not None'\n",
      "  warnings.warn(\n"
     ]
    },
    {
     "data": {
      "text/plain": [
       "<AxesSubplot:title={'center':'Bigram with frequencies for all data'}, xlabel='Frequency'>"
      ]
     },
     "execution_count": 21,
     "metadata": {},
     "output_type": "execute_result"
    },
    {
     "data": {
      "image/png": "[encoded data removed]",
      "text/plain": [
       "<Figure size 504x864 with 1 Axes>"
      ]
     },
     "metadata": {
      "needs_background": "light"
     },
     "output_type": "display_data"
    }
   ],
   "source": [
    "#Most frequent bigram for all tokens in the dataset\n",
    "bag_of_words, words_freq= get_top_ngram(all_tokens, ngram_range=(2,2), top_n= 50) \n",
    "# separate the n_grams from their frequencies\n",
    "ngram_labels = [word[0] for word in words_freq]\n",
    "ngram_freqs = [word[1] for word in words_freq]\n",
    "plt.figure(figsize=(7,12))\n",
    "plt.title(\"Bigram with frequencies for all data\")\n",
    "plt.xlabel(\"Frequency\")\n",
    "sns.barplot(x=ngram_freqs,y=ngram_labels)"
   ]
  },
  {
   "cell_type": "code",
   "execution_count": 22,
   "id": "9b07c038",
   "metadata": {},
   "outputs": [
    {
     "name": "stdout",
     "output_type": "stream",
     "text": [
      "\n",
      " The number of features in the vocabulary is 430\n"
     ]
    },
    {
     "name": "stderr",
     "output_type": "stream",
     "text": [
      "/opt/conda/lib/python3.9/site-packages/sklearn/feature_extraction/text.py:516: UserWarning: The parameter 'token_pattern' will not be used since 'tokenizer' is not None'\n",
      "  warnings.warn(\n"
     ]
    },
    {
     "data": {
      "text/plain": [
       "<AxesSubplot:title={'center':'Bigram with frequencies for peak times'}, xlabel='Frequency'>"
      ]
     },
     "execution_count": 22,
     "metadata": {},
     "output_type": "execute_result"
    },
    {
     "data": {
      "image/png": "[encoded data removed]",
      "text/plain": [
       "<Figure size 504x864 with 1 Axes>"
      ]
     },
     "metadata": {
      "needs_background": "light"
     },
     "output_type": "display_data"
    }
   ],
   "source": [
    "#Most frequent bigram for peak times\n",
    "bag_of_words, words_freq= get_top_ngram(peak_tokens, ngram_range=(2,2), top_n= 50) \n",
    "ngram_labels = [word[0] for word in words_freq]\n",
    "ngram_freqs = [word[1] for word in words_freq]\n",
    "plt.figure(figsize=(7,12))\n",
    "plt.title(\"Bigram with frequencies for peak times\")\n",
    "plt.xlabel(\"Frequency\")\n",
    "sns.barplot(x=ngram_freqs,y=ngram_labels)"
   ]
  },
  {
   "cell_type": "code",
   "execution_count": 23,
   "id": "6c59c181",
   "metadata": {},
   "outputs": [
    {
     "name": "stdout",
     "output_type": "stream",
     "text": [
      "\n",
      " The number of features in the vocabulary is 650\n"
     ]
    },
    {
     "name": "stderr",
     "output_type": "stream",
     "text": [
      "/opt/conda/lib/python3.9/site-packages/sklearn/feature_extraction/text.py:516: UserWarning: The parameter 'token_pattern' will not be used since 'tokenizer' is not None'\n",
      "  warnings.warn(\n"
     ]
    },
    {
     "data": {
      "text/plain": [
       "<AxesSubplot:title={'center':'Bigram with frequencies for off peak times'}, xlabel='Frequency'>"
      ]
     },
     "execution_count": 23,
     "metadata": {},
     "output_type": "execute_result"
    },
    {
     "data": {
      "image/png": "[encoded data removed]",
      "text/plain": [
       "<Figure size 504x864 with 1 Axes>"
      ]
     },
     "metadata": {
      "needs_background": "light"
     },
     "output_type": "display_data"
    }
   ],
   "source": [
    "#Most frequent bigram for off peak times\n",
    "bag_of_words, words_freq= get_top_ngram(off_peak_tokens, ngram_range=(2,2), top_n= 50) \n",
    "ngram_labels = [word[0] for word in words_freq]\n",
    "ngram_freqs = [word[1] for word in words_freq]\n",
    "plt.figure(figsize=(7,12))\n",
    "plt.title(\"Bigram with frequencies for off peak times\")\n",
    "plt.xlabel(\"Frequency\")\n",
    "sns.barplot(x=ngram_freqs,y=ngram_labels)"
   ]
  },
  {
   "cell_type": "code",
   "execution_count": 24,
   "id": "6447a705",
   "metadata": {},
   "outputs": [
    {
     "data": {
      "image/png": "[encoded data removed]",
      "text/plain": [
       "<Figure size 432x288 with 1 Axes>"
      ]
     },
     "metadata": {
      "needs_background": "light"
     },
     "output_type": "display_data"
    }
   ],
   "source": [
    "#Histogram  \n",
    "fig = plt.figure()\n",
    "ax = fig.add_subplot(1, 1, 1)\n",
    "ax.set_title(\"Histogram for peak and off peak times \")\n",
    "\n",
    "ax.hist(peak['place.name'])\n",
    "ax.hist(off_peak['place.name'], alpha=0.7)\n",
    "plt.xticks(rotation = 90) \n",
    "ax.set_xlabel('Place')\n",
    "_ =ax.set_ylabel('Frequency')\n",
    "_= ax.legend(['Peak','Off peak'])\n",
    "plt.show()"
   ]
  },
  {
   "cell_type": "code",
   "execution_count": 25,
   "id": "917c5a69",
   "metadata": {},
   "outputs": [
    {
     "data": {
      "image/png": "[encoded data removed]",
      "text/plain": [
       "<Figure size 432x288 with 1 Axes>"
      ]
     },
     "metadata": {
      "needs_background": "light"
     },
     "output_type": "display_data"
    }
   ],
   "source": [
    "#Visualizing the most frequent words for the whole dataset\n",
    "stops = nlp.Defaults.stop_words\n",
    "wordcloud = WordCloud(stopwords=stops).generate(' '.join(df['text'].tolist()))\n",
    "plt.imshow(wordcloud, interpolation='bilinear')\n",
    "plt.axis(\"off\")\n",
    "plt.show()"
   ]
  },
  {
   "cell_type": "code",
   "execution_count": 26,
   "id": "7d40c737",
   "metadata": {},
   "outputs": [
    {
     "data": {
      "image/png": "[encoded data removed]",
      "text/plain": [
       "<Figure size 432x288 with 1 Axes>"
      ]
     },
     "metadata": {
      "needs_background": "light"
     },
     "output_type": "display_data"
    }
   ],
   "source": [
    "#Visualizing the most frequent words in peak time\n",
    "stops = nlp.Defaults.stop_words\n",
    "wordcloud = WordCloud(stopwords=stops).generate(' '.join(peak['text'].tolist()))\n",
    "plt.imshow(wordcloud, interpolation='bilinear')\n",
    "plt.axis(\"off\")\n",
    "plt.show()"
   ]
  },
  {
   "cell_type": "code",
   "execution_count": 27,
   "id": "45bd7a85",
   "metadata": {},
   "outputs": [
    {
     "data": {
      "image/png": "[encoded data removed]",
      "text/plain": [
       "<Figure size 432x288 with 1 Axes>"
      ]
     },
     "metadata": {
      "needs_background": "light"
     },
     "output_type": "display_data"
    }
   ],
   "source": [
    "#Visualizing the most frequent words in off peak time\n",
    "stops = nlp.Defaults.stop_words\n",
    "wordcloud = WordCloud(stopwords=stops).generate(' '.join(off_peak['text'].tolist()))\n",
    "plt.imshow(wordcloud, interpolation='bilinear')\n",
    "plt.axis(\"off\")\n",
    "plt.show()"
   ]
  },
  {
   "cell_type": "code",
   "execution_count": 28,
   "id": "e12e5a75",
   "metadata": {},
   "outputs": [
    {
     "data": {
      "text/html": [
       "<div>\n",
       "<style scoped>\n",
       "    .dataframe tbody tr th:only-of-type {\n",
       "        vertical-align: middle;\n",
       "    }\n",
       "\n",
       "    .dataframe tbody tr th {\n",
       "        vertical-align: top;\n",
       "    }\n",
       "\n",
       "    .dataframe thead th {\n",
       "        text-align: right;\n",
       "    }\n",
       "</style>\n",
       "<table border=\"1\" class=\"dataframe\">\n",
       "  <thead>\n",
       "    <tr style=\"text-align: right;\">\n",
       "      <th></th>\n",
       "      <th>user.id</th>\n",
       "      <th>text</th>\n",
       "      <th>place.name</th>\n",
       "      <th>LATITUDE</th>\n",
       "      <th>LONGITUDE</th>\n",
       "      <th>coordinates.coordinates</th>\n",
       "      <th>place.bounding_box.coordinates</th>\n",
       "    </tr>\n",
       "    <tr>\n",
       "      <th>created_at</th>\n",
       "      <th></th>\n",
       "      <th></th>\n",
       "      <th></th>\n",
       "      <th></th>\n",
       "      <th></th>\n",
       "      <th></th>\n",
       "      <th></th>\n",
       "    </tr>\n",
       "  </thead>\n",
       "  <tbody>\n",
       "    <tr>\n",
       "      <th>2018-07-26 13:39:37+00:00</th>\n",
       "      <td>986000000000000000</td>\n",
       "      <td>cool coolice cold matcha lattesimple n delishm...</td>\n",
       "      <td>Poplar</td>\n",
       "      <td>51.519230</td>\n",
       "      <td>-0.076010</td>\n",
       "      <td>[-0.07601,51.51923]</td>\n",
       "      <td>[[[-0.080028,51.48432],[-0.080028,51.545341],[...</td>\n",
       "    </tr>\n",
       "    <tr>\n",
       "      <th>2018-07-26 13:40:01+00:00</th>\n",
       "      <td>17649300</td>\n",
       "      <td>surreyrugcare cheam</td>\n",
       "      <td>Sutton</td>\n",
       "      <td>51.369736</td>\n",
       "      <td>-0.212330</td>\n",
       "      <td>[-0.21233046,51.36973556]</td>\n",
       "      <td>[[[-0.245869,51.330352],[-0.245869,51.393443],...</td>\n",
       "    </tr>\n",
       "    <tr>\n",
       "      <th>2018-07-26 13:40:08+00:00</th>\n",
       "      <td>3014871646</td>\n",
       "      <td>unveil new logonew logo alertnew logo look lik...</td>\n",
       "      <td>Eltham</td>\n",
       "      <td>51.508440</td>\n",
       "      <td>0.123540</td>\n",
       "      <td>[0.1235397,51.5084396]</td>\n",
       "      <td>[[[0.045148,51.423888],[0.045148,51.512916],[0...</td>\n",
       "    </tr>\n",
       "    <tr>\n",
       "      <th>2018-07-26 13:40:09+00:00</th>\n",
       "      <td>134544230</td>\n",
       "      <td>house spangle swimwearexclusive print apparell...</td>\n",
       "      <td>London</td>\n",
       "      <td>51.507115</td>\n",
       "      <td>-0.127318</td>\n",
       "      <td>[-0.12731805,51.50711486]</td>\n",
       "      <td>[[[-0.187894,51.483718],[-0.187894,51.516466],...</td>\n",
       "    </tr>\n",
       "    <tr>\n",
       "      <th>2018-07-26 13:40:43+00:00</th>\n",
       "      <td>119768841</td>\n",
       "      <td>byelondon soonsolongfarewelladieu parting swee...</td>\n",
       "      <td>Camden Town</td>\n",
       "      <td>51.528400</td>\n",
       "      <td>-0.133100</td>\n",
       "      <td>[-0.1331,51.5284]</td>\n",
       "      <td>[[[-0.213503,51.512805],[-0.213503,51.572068],...</td>\n",
       "    </tr>\n",
       "    <tr>\n",
       "      <th>...</th>\n",
       "      <td>...</td>\n",
       "      <td>...</td>\n",
       "      <td>...</td>\n",
       "      <td>...</td>\n",
       "      <td>...</td>\n",
       "      <td>...</td>\n",
       "      <td>...</td>\n",
       "    </tr>\n",
       "    <tr>\n",
       "      <th>2018-07-26 17:01:53+00:00</th>\n",
       "      <td>1365521923</td>\n",
       "      <td>time week get ready night finish chemotherapye...</td>\n",
       "      <td>Islington</td>\n",
       "      <td>51.546337</td>\n",
       "      <td>-0.115505</td>\n",
       "      <td>[-0.11550531,51.54633655]</td>\n",
       "      <td>[[[-0.142058,51.518552],[-0.142058,51.575301],...</td>\n",
       "    </tr>\n",
       "    <tr>\n",
       "      <th>2018-07-26 17:02:13+00:00</th>\n",
       "      <td>586017139</td>\n",
       "      <td>great week ready play week tomorrowtheatrepupp...</td>\n",
       "      <td>Camberwell</td>\n",
       "      <td>51.503951</td>\n",
       "      <td>-0.080904</td>\n",
       "      <td>[-0.08090444,51.50395133]</td>\n",
       "      <td>[[[-0.111476,51.419425],[-0.111476,51.509947],...</td>\n",
       "    </tr>\n",
       "    <tr>\n",
       "      <th>2018-07-26 17:02:14+00:00</th>\n",
       "      <td>2164406816</td>\n",
       "      <td>great client lunch todaythank comepropertyprop...</td>\n",
       "      <td>Paddington</td>\n",
       "      <td>51.516796</td>\n",
       "      <td>-0.136244</td>\n",
       "      <td>[-0.1362441,51.5167961]</td>\n",
       "      <td>[[[-0.21607,51.509879],[-0.21607,51.539792],[-...</td>\n",
       "    </tr>\n",
       "    <tr>\n",
       "      <th>2018-07-26 17:02:58+00:00</th>\n",
       "      <td>2882536427</td>\n",
       "      <td>rain drop require heatnemnemrestaurafreshmikee...</td>\n",
       "      <td>Islington</td>\n",
       "      <td>51.540199</td>\n",
       "      <td>-0.102373</td>\n",
       "      <td>[-0.1023726,51.5401993]</td>\n",
       "      <td>[[[-0.142058,51.518552],[-0.142058,51.575301],...</td>\n",
       "    </tr>\n",
       "    <tr>\n",
       "      <th>2018-07-26 17:03:05+00:00</th>\n",
       "      <td>626406631</td>\n",
       "      <td>rise unconditional offer prompt university adm...</td>\n",
       "      <td>Eltham</td>\n",
       "      <td>51.483949</td>\n",
       "      <td>0.098877</td>\n",
       "      <td>[0.09887695,51.48394855]</td>\n",
       "      <td>[[[0.045148,51.423888],[0.045148,51.512916],[0...</td>\n",
       "    </tr>\n",
       "  </tbody>\n",
       "</table>\n",
       "<p>200 rows × 7 columns</p>\n",
       "</div>"
      ],
      "text/plain": [
       "                                      user.id  \\\n",
       "created_at                                      \n",
       "2018-07-26 13:39:37+00:00  986000000000000000   \n",
       "2018-07-26 13:40:01+00:00            17649300   \n",
       "2018-07-26 13:40:08+00:00          3014871646   \n",
       "2018-07-26 13:40:09+00:00           134544230   \n",
       "2018-07-26 13:40:43+00:00           119768841   \n",
       "...                                       ...   \n",
       "2018-07-26 17:01:53+00:00          1365521923   \n",
       "2018-07-26 17:02:13+00:00           586017139   \n",
       "2018-07-26 17:02:14+00:00          2164406816   \n",
       "2018-07-26 17:02:58+00:00          2882536427   \n",
       "2018-07-26 17:03:05+00:00           626406631   \n",
       "\n",
       "                                                                        text  \\\n",
       "created_at                                                                     \n",
       "2018-07-26 13:39:37+00:00  cool coolice cold matcha lattesimple n delishm...   \n",
       "2018-07-26 13:40:01+00:00                               surreyrugcare cheam    \n",
       "2018-07-26 13:40:08+00:00  unveil new logonew logo alertnew logo look lik...   \n",
       "2018-07-26 13:40:09+00:00  house spangle swimwearexclusive print apparell...   \n",
       "2018-07-26 13:40:43+00:00  byelondon soonsolongfarewelladieu parting swee...   \n",
       "...                                                                      ...   \n",
       "2018-07-26 17:01:53+00:00  time week get ready night finish chemotherapye...   \n",
       "2018-07-26 17:02:13+00:00  great week ready play week tomorrowtheatrepupp...   \n",
       "2018-07-26 17:02:14+00:00  great client lunch todaythank comepropertyprop...   \n",
       "2018-07-26 17:02:58+00:00  rain drop require heatnemnemrestaurafreshmikee...   \n",
       "2018-07-26 17:03:05+00:00  rise unconditional offer prompt university adm...   \n",
       "\n",
       "                            place.name   LATITUDE  LONGITUDE  \\\n",
       "created_at                                                     \n",
       "2018-07-26 13:39:37+00:00       Poplar  51.519230  -0.076010   \n",
       "2018-07-26 13:40:01+00:00       Sutton  51.369736  -0.212330   \n",
       "2018-07-26 13:40:08+00:00       Eltham  51.508440   0.123540   \n",
       "2018-07-26 13:40:09+00:00       London  51.507115  -0.127318   \n",
       "2018-07-26 13:40:43+00:00  Camden Town  51.528400  -0.133100   \n",
       "...                                ...        ...        ...   \n",
       "2018-07-26 17:01:53+00:00    Islington  51.546337  -0.115505   \n",
       "2018-07-26 17:02:13+00:00   Camberwell  51.503951  -0.080904   \n",
       "2018-07-26 17:02:14+00:00   Paddington  51.516796  -0.136244   \n",
       "2018-07-26 17:02:58+00:00    Islington  51.540199  -0.102373   \n",
       "2018-07-26 17:03:05+00:00       Eltham  51.483949   0.098877   \n",
       "\n",
       "                             coordinates.coordinates  \\\n",
       "created_at                                             \n",
       "2018-07-26 13:39:37+00:00        [-0.07601,51.51923]   \n",
       "2018-07-26 13:40:01+00:00  [-0.21233046,51.36973556]   \n",
       "2018-07-26 13:40:08+00:00     [0.1235397,51.5084396]   \n",
       "2018-07-26 13:40:09+00:00  [-0.12731805,51.50711486]   \n",
       "2018-07-26 13:40:43+00:00          [-0.1331,51.5284]   \n",
       "...                                              ...   \n",
       "2018-07-26 17:01:53+00:00  [-0.11550531,51.54633655]   \n",
       "2018-07-26 17:02:13+00:00  [-0.08090444,51.50395133]   \n",
       "2018-07-26 17:02:14+00:00    [-0.1362441,51.5167961]   \n",
       "2018-07-26 17:02:58+00:00    [-0.1023726,51.5401993]   \n",
       "2018-07-26 17:03:05+00:00   [0.09887695,51.48394855]   \n",
       "\n",
       "                                              place.bounding_box.coordinates  \n",
       "created_at                                                                    \n",
       "2018-07-26 13:39:37+00:00  [[[-0.080028,51.48432],[-0.080028,51.545341],[...  \n",
       "2018-07-26 13:40:01+00:00  [[[-0.245869,51.330352],[-0.245869,51.393443],...  \n",
       "2018-07-26 13:40:08+00:00  [[[0.045148,51.423888],[0.045148,51.512916],[0...  \n",
       "2018-07-26 13:40:09+00:00  [[[-0.187894,51.483718],[-0.187894,51.516466],...  \n",
       "2018-07-26 13:40:43+00:00  [[[-0.213503,51.512805],[-0.213503,51.572068],...  \n",
       "...                                                                      ...  \n",
       "2018-07-26 17:01:53+00:00  [[[-0.142058,51.518552],[-0.142058,51.575301],...  \n",
       "2018-07-26 17:02:13+00:00  [[[-0.111476,51.419425],[-0.111476,51.509947],...  \n",
       "2018-07-26 17:02:14+00:00  [[[-0.21607,51.509879],[-0.21607,51.539792],[-...  \n",
       "2018-07-26 17:02:58+00:00  [[[-0.142058,51.518552],[-0.142058,51.575301],...  \n",
       "2018-07-26 17:03:05+00:00  [[[0.045148,51.423888],[0.045148,51.512916],[0...  \n",
       "\n",
       "[200 rows x 7 columns]"
      ]
     },
     "execution_count": 28,
     "metadata": {},
     "output_type": "execute_result"
    }
   ],
   "source": [
    "# Remove non-travel related tweets\n",
    "searchfor = ['job', 'work', 'makeup','flat']\n",
    "df = df[~df.text.str.contains('|'.join(searchfor))]\n",
    "df"
   ]
  },
  {
   "cell_type": "code",
   "execution_count": 29,
   "id": "6f664536",
   "metadata": {},
   "outputs": [
    {
     "name": "stdout",
     "output_type": "stream",
     "text": [
      "\n",
      " The number of features in the vocabulary is 1332\n"
     ]
    },
    {
     "name": "stderr",
     "output_type": "stream",
     "text": [
      "/opt/conda/lib/python3.9/site-packages/sklearn/feature_extraction/text.py:516: UserWarning: The parameter 'token_pattern' will not be used since 'tokenizer' is not None'\n",
      "  warnings.warn(\n"
     ]
    },
    {
     "data": {
      "text/plain": [
       "<AxesSubplot:title={'center':'frequencies for off peak times'}, xlabel='Frequency'>"
      ]
     },
     "execution_count": 29,
     "metadata": {},
     "output_type": "execute_result"
    },
    {
     "data": {
      "image/png": "[encoded data removed]",
      "text/plain": [
       "<Figure size 504x864 with 1 Axes>"
      ]
     },
     "metadata": {
      "needs_background": "light"
     },
     "output_type": "display_data"
    }
   ],
   "source": [
    "#Most frequent bigram for off peak times\n",
    "bag_of_words, words_freq= get_top_ngram(off_peak_tokens, ngram_range=(1,2), top_n= 20) \n",
    "ngram_labels = [word[0] for word in words_freq]\n",
    "ngram_freqs = [word[1] for word in words_freq]\n",
    "plt.figure(figsize=(7,12))\n",
    "plt.title(\"frequencies for off peak times\")\n",
    "plt.xlabel(\"Frequency\")\n",
    "sns.barplot(x=ngram_freqs,y=ngram_labels)"
   ]
  },
  {
   "cell_type": "code",
   "execution_count": 30,
   "id": "d7e0cbff",
   "metadata": {},
   "outputs": [
    {
     "name": "stdout",
     "output_type": "stream",
     "text": [
      "\n",
      " The number of features in the vocabulary is 886\n"
     ]
    },
    {
     "name": "stderr",
     "output_type": "stream",
     "text": [
      "/opt/conda/lib/python3.9/site-packages/sklearn/feature_extraction/text.py:516: UserWarning: The parameter 'token_pattern' will not be used since 'tokenizer' is not None'\n",
      "  warnings.warn(\n"
     ]
    },
    {
     "data": {
      "text/plain": [
       "<AxesSubplot:title={'center':'frequencies for peak times'}, xlabel='Frequency'>"
      ]
     },
     "execution_count": 30,
     "metadata": {},
     "output_type": "execute_result"
    },
    {
     "data": {
      "image/png": "[encoded data removed]",
      "text/plain": [
       "<Figure size 504x864 with 1 Axes>"
      ]
     },
     "metadata": {
      "needs_background": "light"
     },
     "output_type": "display_data"
    }
   ],
   "source": [
    "#Most frequent bigram for off peak times\n",
    "bag_of_words, words_freq= get_top_ngram(peak_tokens, ngram_range=(1,2), top_n= 20) \n",
    "ngram_labels = [word[0] for word in words_freq]\n",
    "ngram_freqs = [word[1] for word in words_freq]\n",
    "plt.figure(figsize=(7,12))\n",
    "plt.title(\"frequencies for peak times\")\n",
    "plt.xlabel(\"Frequency\")\n",
    "sns.barplot(x=ngram_freqs,y=ngram_labels)"
   ]
  },
  {
   "cell_type": "markdown",
   "id": "0f0756ee",
   "metadata": {},
   "source": [
    "## Sentiment Analysis\n",
    "VADER (Valence Aware Dictionary and sEntiment Reasoner)"
   ]
  },
  {
   "cell_type": "code",
   "execution_count": 31,
   "id": "61f5b17a",
   "metadata": {},
   "outputs": [],
   "source": [
    "def sentiment_scores(sentence):\n",
    "\n",
    "  sid_obj = SentimentIntensityAnalyzer()\n",
    "  senti = 0\n",
    " \n",
    "  # sentiment_dict = sid_obj.polarity_scores(sentence)\n",
    "  \n",
    "  compound = sid_obj.polarity_scores(sentence)[\"compound\"]\n",
    "  pos = sid_obj.polarity_scores(sentence)[\"pos\"]\n",
    "  neu = sid_obj.polarity_scores(sentence)[\"neu\"]\n",
    "  neg = sid_obj.polarity_scores(sentence)[\"neg\"]\n",
    "\n",
    "  if compound >= 0.05 :\n",
    "    senti = 'Positive'\n",
    "    \n",
    "  elif compound <= - 0.05 :\n",
    "    senti = 'Negative'\n",
    "    \n",
    "  else :\n",
    "    senti = 'Neutral'\n",
    "\n",
    "  return pos,neu,neg,compound,senti\n"
   ]
  },
  {
   "cell_type": "code",
   "execution_count": 32,
   "id": "1d101427",
   "metadata": {},
   "outputs": [],
   "source": [
    "sentiments = []\n",
    "senti = []\n",
    "X = np.array(df[['text']])\n",
    "for sentence in X:\n",
    "  pos,neu,neg,comp,s = sentiment_scores(sentence)\n",
    "  senti.append(s)\n",
    "  # comp.append(x['compound'])\n",
    "  sentiments.append({\"text\":sentence,\"Compound\": comp,\"Positive\": pos,\"Negative\": neg, \"Neutral\": neu})\n",
    "sentiments_df = pd.DataFrame.from_dict(sentiments)\n",
    "sentiments_df['val']=(senti)\n",
    "# senti_score['score']=(y)"
   ]
  },
  {
   "cell_type": "code",
   "execution_count": 33,
   "id": "690ecf7c",
   "metadata": {},
   "outputs": [
    {
     "name": "stderr",
     "output_type": "stream",
     "text": [
      "/tmp/ipykernel_54/1119242338.py:1: SettingWithCopyWarning: \n",
      "A value is trying to be set on a copy of a slice from a DataFrame.\n",
      "Try using .loc[row_indexer,col_indexer] = value instead\n",
      "\n",
      "See the caveats in the documentation: https://pandas.pydata.org/pandas-docs/stable/user_guide/indexing.html#returning-a-view-versus-a-copy\n",
      "  df['Compound'] = sentiments_df['Compound'].values\n",
      "/tmp/ipykernel_54/1119242338.py:2: SettingWithCopyWarning: \n",
      "A value is trying to be set on a copy of a slice from a DataFrame.\n",
      "Try using .loc[row_indexer,col_indexer] = value instead\n",
      "\n",
      "See the caveats in the documentation: https://pandas.pydata.org/pandas-docs/stable/user_guide/indexing.html#returning-a-view-versus-a-copy\n",
      "  df['Positive'] = sentiments_df['Positive'].values\n",
      "/tmp/ipykernel_54/1119242338.py:3: SettingWithCopyWarning: \n",
      "A value is trying to be set on a copy of a slice from a DataFrame.\n",
      "Try using .loc[row_indexer,col_indexer] = value instead\n",
      "\n",
      "See the caveats in the documentation: https://pandas.pydata.org/pandas-docs/stable/user_guide/indexing.html#returning-a-view-versus-a-copy\n",
      "  df['Negative'] = sentiments_df['Negative'].values\n",
      "/tmp/ipykernel_54/1119242338.py:4: SettingWithCopyWarning: \n",
      "A value is trying to be set on a copy of a slice from a DataFrame.\n",
      "Try using .loc[row_indexer,col_indexer] = value instead\n",
      "\n",
      "See the caveats in the documentation: https://pandas.pydata.org/pandas-docs/stable/user_guide/indexing.html#returning-a-view-versus-a-copy\n",
      "  df['Neutral'] = sentiments_df['Neutral'].values\n",
      "/tmp/ipykernel_54/1119242338.py:5: SettingWithCopyWarning: \n",
      "A value is trying to be set on a copy of a slice from a DataFrame.\n",
      "Try using .loc[row_indexer,col_indexer] = value instead\n",
      "\n",
      "See the caveats in the documentation: https://pandas.pydata.org/pandas-docs/stable/user_guide/indexing.html#returning-a-view-versus-a-copy\n",
      "  df['Sentiment'] = sentiments_df['val'].values\n"
     ]
    },
    {
     "data": {
      "text/html": [
       "<div>\n",
       "<style scoped>\n",
       "    .dataframe tbody tr th:only-of-type {\n",
       "        vertical-align: middle;\n",
       "    }\n",
       "\n",
       "    .dataframe tbody tr th {\n",
       "        vertical-align: top;\n",
       "    }\n",
       "\n",
       "    .dataframe thead th {\n",
       "        text-align: right;\n",
       "    }\n",
       "</style>\n",
       "<table border=\"1\" class=\"dataframe\">\n",
       "  <thead>\n",
       "    <tr style=\"text-align: right;\">\n",
       "      <th></th>\n",
       "      <th>user.id</th>\n",
       "      <th>text</th>\n",
       "      <th>place.name</th>\n",
       "      <th>LATITUDE</th>\n",
       "      <th>LONGITUDE</th>\n",
       "      <th>coordinates.coordinates</th>\n",
       "      <th>place.bounding_box.coordinates</th>\n",
       "      <th>Compound</th>\n",
       "      <th>Positive</th>\n",
       "      <th>Negative</th>\n",
       "      <th>Neutral</th>\n",
       "      <th>Sentiment</th>\n",
       "    </tr>\n",
       "    <tr>\n",
       "      <th>created_at</th>\n",
       "      <th></th>\n",
       "      <th></th>\n",
       "      <th></th>\n",
       "      <th></th>\n",
       "      <th></th>\n",
       "      <th></th>\n",
       "      <th></th>\n",
       "      <th></th>\n",
       "      <th></th>\n",
       "      <th></th>\n",
       "      <th></th>\n",
       "      <th></th>\n",
       "    </tr>\n",
       "  </thead>\n",
       "  <tbody>\n",
       "    <tr>\n",
       "      <th>2018-07-26 13:39:37+00:00</th>\n",
       "      <td>986000000000000000</td>\n",
       "      <td>cool coolice cold matcha lattesimple n delishm...</td>\n",
       "      <td>Poplar</td>\n",
       "      <td>51.519230</td>\n",
       "      <td>-0.076010</td>\n",
       "      <td>[-0.07601,51.51923]</td>\n",
       "      <td>[[[-0.080028,51.48432],[-0.080028,51.545341],[...</td>\n",
       "      <td>0.3182</td>\n",
       "      <td>0.277</td>\n",
       "      <td>0.000</td>\n",
       "      <td>0.723</td>\n",
       "      <td>Positive</td>\n",
       "    </tr>\n",
       "    <tr>\n",
       "      <th>2018-07-26 13:40:01+00:00</th>\n",
       "      <td>17649300</td>\n",
       "      <td>surreyrugcare cheam</td>\n",
       "      <td>Sutton</td>\n",
       "      <td>51.369736</td>\n",
       "      <td>-0.212330</td>\n",
       "      <td>[-0.21233046,51.36973556]</td>\n",
       "      <td>[[[-0.245869,51.330352],[-0.245869,51.393443],...</td>\n",
       "      <td>0.0000</td>\n",
       "      <td>0.000</td>\n",
       "      <td>0.000</td>\n",
       "      <td>1.000</td>\n",
       "      <td>Neutral</td>\n",
       "    </tr>\n",
       "    <tr>\n",
       "      <th>2018-07-26 13:40:08+00:00</th>\n",
       "      <td>3014871646</td>\n",
       "      <td>unveil new logonew logo alertnew logo look lik...</td>\n",
       "      <td>Eltham</td>\n",
       "      <td>51.508440</td>\n",
       "      <td>0.123540</td>\n",
       "      <td>[0.1235397,51.5084396]</td>\n",
       "      <td>[[[0.045148,51.423888],[0.045148,51.512916],[0...</td>\n",
       "      <td>0.0000</td>\n",
       "      <td>0.000</td>\n",
       "      <td>0.000</td>\n",
       "      <td>1.000</td>\n",
       "      <td>Neutral</td>\n",
       "    </tr>\n",
       "    <tr>\n",
       "      <th>2018-07-26 13:40:09+00:00</th>\n",
       "      <td>134544230</td>\n",
       "      <td>house spangle swimwearexclusive print apparell...</td>\n",
       "      <td>London</td>\n",
       "      <td>51.507115</td>\n",
       "      <td>-0.127318</td>\n",
       "      <td>[-0.12731805,51.50711486]</td>\n",
       "      <td>[[[-0.187894,51.483718],[-0.187894,51.516466],...</td>\n",
       "      <td>0.0000</td>\n",
       "      <td>0.000</td>\n",
       "      <td>0.000</td>\n",
       "      <td>1.000</td>\n",
       "      <td>Neutral</td>\n",
       "    </tr>\n",
       "    <tr>\n",
       "      <th>2018-07-26 13:40:43+00:00</th>\n",
       "      <td>119768841</td>\n",
       "      <td>byelondon soonsolongfarewelladieu parting swee...</td>\n",
       "      <td>Camden Town</td>\n",
       "      <td>51.528400</td>\n",
       "      <td>-0.133100</td>\n",
       "      <td>[-0.1331,51.5284]</td>\n",
       "      <td>[[[-0.213503,51.512805],[-0.213503,51.572068],...</td>\n",
       "      <td>0.4588</td>\n",
       "      <td>0.375</td>\n",
       "      <td>0.000</td>\n",
       "      <td>0.625</td>\n",
       "      <td>Positive</td>\n",
       "    </tr>\n",
       "    <tr>\n",
       "      <th>...</th>\n",
       "      <td>...</td>\n",
       "      <td>...</td>\n",
       "      <td>...</td>\n",
       "      <td>...</td>\n",
       "      <td>...</td>\n",
       "      <td>...</td>\n",
       "      <td>...</td>\n",
       "      <td>...</td>\n",
       "      <td>...</td>\n",
       "      <td>...</td>\n",
       "      <td>...</td>\n",
       "      <td>...</td>\n",
       "    </tr>\n",
       "    <tr>\n",
       "      <th>2018-07-26 17:01:53+00:00</th>\n",
       "      <td>1365521923</td>\n",
       "      <td>time week get ready night finish chemotherapye...</td>\n",
       "      <td>Islington</td>\n",
       "      <td>51.546337</td>\n",
       "      <td>-0.115505</td>\n",
       "      <td>[-0.11550531,51.54633655]</td>\n",
       "      <td>[[[-0.142058,51.518552],[-0.142058,51.575301],...</td>\n",
       "      <td>0.3612</td>\n",
       "      <td>0.263</td>\n",
       "      <td>0.000</td>\n",
       "      <td>0.737</td>\n",
       "      <td>Positive</td>\n",
       "    </tr>\n",
       "    <tr>\n",
       "      <th>2018-07-26 17:02:13+00:00</th>\n",
       "      <td>586017139</td>\n",
       "      <td>great week ready play week tomorrowtheatrepupp...</td>\n",
       "      <td>Camberwell</td>\n",
       "      <td>51.503951</td>\n",
       "      <td>-0.080904</td>\n",
       "      <td>[-0.08090444,51.50395133]</td>\n",
       "      <td>[[[-0.111476,51.419425],[-0.111476,51.509947],...</td>\n",
       "      <td>0.8402</td>\n",
       "      <td>0.692</td>\n",
       "      <td>0.000</td>\n",
       "      <td>0.308</td>\n",
       "      <td>Positive</td>\n",
       "    </tr>\n",
       "    <tr>\n",
       "      <th>2018-07-26 17:02:14+00:00</th>\n",
       "      <td>2164406816</td>\n",
       "      <td>great client lunch todaythank comepropertyprop...</td>\n",
       "      <td>Paddington</td>\n",
       "      <td>51.516796</td>\n",
       "      <td>-0.136244</td>\n",
       "      <td>[-0.1362441,51.5167961]</td>\n",
       "      <td>[[[-0.21607,51.509879],[-0.21607,51.539792],[-...</td>\n",
       "      <td>0.6249</td>\n",
       "      <td>0.506</td>\n",
       "      <td>0.000</td>\n",
       "      <td>0.494</td>\n",
       "      <td>Positive</td>\n",
       "    </tr>\n",
       "    <tr>\n",
       "      <th>2018-07-26 17:02:58+00:00</th>\n",
       "      <td>2882536427</td>\n",
       "      <td>rain drop require heatnemnemrestaurafreshmikee...</td>\n",
       "      <td>Islington</td>\n",
       "      <td>51.540199</td>\n",
       "      <td>-0.102373</td>\n",
       "      <td>[-0.1023726,51.5401993]</td>\n",
       "      <td>[[[-0.142058,51.518552],[-0.142058,51.575301],...</td>\n",
       "      <td>-0.2732</td>\n",
       "      <td>0.000</td>\n",
       "      <td>0.296</td>\n",
       "      <td>0.704</td>\n",
       "      <td>Negative</td>\n",
       "    </tr>\n",
       "    <tr>\n",
       "      <th>2018-07-26 17:03:05+00:00</th>\n",
       "      <td>626406631</td>\n",
       "      <td>rise unconditional offer prompt university adm...</td>\n",
       "      <td>Eltham</td>\n",
       "      <td>51.483949</td>\n",
       "      <td>0.098877</td>\n",
       "      <td>[0.09887695,51.48394855]</td>\n",
       "      <td>[[[0.045148,51.423888],[0.045148,51.512916],[0...</td>\n",
       "      <td>0.0000</td>\n",
       "      <td>0.000</td>\n",
       "      <td>0.000</td>\n",
       "      <td>1.000</td>\n",
       "      <td>Neutral</td>\n",
       "    </tr>\n",
       "  </tbody>\n",
       "</table>\n",
       "<p>200 rows × 12 columns</p>\n",
       "</div>"
      ],
      "text/plain": [
       "                                      user.id  \\\n",
       "created_at                                      \n",
       "2018-07-26 13:39:37+00:00  986000000000000000   \n",
       "2018-07-26 13:40:01+00:00            17649300   \n",
       "2018-07-26 13:40:08+00:00          3014871646   \n",
       "2018-07-26 13:40:09+00:00           134544230   \n",
       "2018-07-26 13:40:43+00:00           119768841   \n",
       "...                                       ...   \n",
       "2018-07-26 17:01:53+00:00          1365521923   \n",
       "2018-07-26 17:02:13+00:00           586017139   \n",
       "2018-07-26 17:02:14+00:00          2164406816   \n",
       "2018-07-26 17:02:58+00:00          2882536427   \n",
       "2018-07-26 17:03:05+00:00           626406631   \n",
       "\n",
       "                                                                        text  \\\n",
       "created_at                                                                     \n",
       "2018-07-26 13:39:37+00:00  cool coolice cold matcha lattesimple n delishm...   \n",
       "2018-07-26 13:40:01+00:00                               surreyrugcare cheam    \n",
       "2018-07-26 13:40:08+00:00  unveil new logonew logo alertnew logo look lik...   \n",
       "2018-07-26 13:40:09+00:00  house spangle swimwearexclusive print apparell...   \n",
       "2018-07-26 13:40:43+00:00  byelondon soonsolongfarewelladieu parting swee...   \n",
       "...                                                                      ...   \n",
       "2018-07-26 17:01:53+00:00  time week get ready night finish chemotherapye...   \n",
       "2018-07-26 17:02:13+00:00  great week ready play week tomorrowtheatrepupp...   \n",
       "2018-07-26 17:02:14+00:00  great client lunch todaythank comepropertyprop...   \n",
       "2018-07-26 17:02:58+00:00  rain drop require heatnemnemrestaurafreshmikee...   \n",
       "2018-07-26 17:03:05+00:00  rise unconditional offer prompt university adm...   \n",
       "\n",
       "                            place.name   LATITUDE  LONGITUDE  \\\n",
       "created_at                                                     \n",
       "2018-07-26 13:39:37+00:00       Poplar  51.519230  -0.076010   \n",
       "2018-07-26 13:40:01+00:00       Sutton  51.369736  -0.212330   \n",
       "2018-07-26 13:40:08+00:00       Eltham  51.508440   0.123540   \n",
       "2018-07-26 13:40:09+00:00       London  51.507115  -0.127318   \n",
       "2018-07-26 13:40:43+00:00  Camden Town  51.528400  -0.133100   \n",
       "...                                ...        ...        ...   \n",
       "2018-07-26 17:01:53+00:00    Islington  51.546337  -0.115505   \n",
       "2018-07-26 17:02:13+00:00   Camberwell  51.503951  -0.080904   \n",
       "2018-07-26 17:02:14+00:00   Paddington  51.516796  -0.136244   \n",
       "2018-07-26 17:02:58+00:00    Islington  51.540199  -0.102373   \n",
       "2018-07-26 17:03:05+00:00       Eltham  51.483949   0.098877   \n",
       "\n",
       "                             coordinates.coordinates  \\\n",
       "created_at                                             \n",
       "2018-07-26 13:39:37+00:00        [-0.07601,51.51923]   \n",
       "2018-07-26 13:40:01+00:00  [-0.21233046,51.36973556]   \n",
       "2018-07-26 13:40:08+00:00     [0.1235397,51.5084396]   \n",
       "2018-07-26 13:40:09+00:00  [-0.12731805,51.50711486]   \n",
       "2018-07-26 13:40:43+00:00          [-0.1331,51.5284]   \n",
       "...                                              ...   \n",
       "2018-07-26 17:01:53+00:00  [-0.11550531,51.54633655]   \n",
       "2018-07-26 17:02:13+00:00  [-0.08090444,51.50395133]   \n",
       "2018-07-26 17:02:14+00:00    [-0.1362441,51.5167961]   \n",
       "2018-07-26 17:02:58+00:00    [-0.1023726,51.5401993]   \n",
       "2018-07-26 17:03:05+00:00   [0.09887695,51.48394855]   \n",
       "\n",
       "                                              place.bounding_box.coordinates  \\\n",
       "created_at                                                                     \n",
       "2018-07-26 13:39:37+00:00  [[[-0.080028,51.48432],[-0.080028,51.545341],[...   \n",
       "2018-07-26 13:40:01+00:00  [[[-0.245869,51.330352],[-0.245869,51.393443],...   \n",
       "2018-07-26 13:40:08+00:00  [[[0.045148,51.423888],[0.045148,51.512916],[0...   \n",
       "2018-07-26 13:40:09+00:00  [[[-0.187894,51.483718],[-0.187894,51.516466],...   \n",
       "2018-07-26 13:40:43+00:00  [[[-0.213503,51.512805],[-0.213503,51.572068],...   \n",
       "...                                                                      ...   \n",
       "2018-07-26 17:01:53+00:00  [[[-0.142058,51.518552],[-0.142058,51.575301],...   \n",
       "2018-07-26 17:02:13+00:00  [[[-0.111476,51.419425],[-0.111476,51.509947],...   \n",
       "2018-07-26 17:02:14+00:00  [[[-0.21607,51.509879],[-0.21607,51.539792],[-...   \n",
       "2018-07-26 17:02:58+00:00  [[[-0.142058,51.518552],[-0.142058,51.575301],...   \n",
       "2018-07-26 17:03:05+00:00  [[[0.045148,51.423888],[0.045148,51.512916],[0...   \n",
       "\n",
       "                           Compound  Positive  Negative  Neutral Sentiment  \n",
       "created_at                                                                  \n",
       "2018-07-26 13:39:37+00:00    0.3182     0.277     0.000    0.723  Positive  \n",
       "2018-07-26 13:40:01+00:00    0.0000     0.000     0.000    1.000   Neutral  \n",
       "2018-07-26 13:40:08+00:00    0.0000     0.000     0.000    1.000   Neutral  \n",
       "2018-07-26 13:40:09+00:00    0.0000     0.000     0.000    1.000   Neutral  \n",
       "2018-07-26 13:40:43+00:00    0.4588     0.375     0.000    0.625  Positive  \n",
       "...                             ...       ...       ...      ...       ...  \n",
       "2018-07-26 17:01:53+00:00    0.3612     0.263     0.000    0.737  Positive  \n",
       "2018-07-26 17:02:13+00:00    0.8402     0.692     0.000    0.308  Positive  \n",
       "2018-07-26 17:02:14+00:00    0.6249     0.506     0.000    0.494  Positive  \n",
       "2018-07-26 17:02:58+00:00   -0.2732     0.000     0.296    0.704  Negative  \n",
       "2018-07-26 17:03:05+00:00    0.0000     0.000     0.000    1.000   Neutral  \n",
       "\n",
       "[200 rows x 12 columns]"
      ]
     },
     "execution_count": 33,
     "metadata": {},
     "output_type": "execute_result"
    }
   ],
   "source": [
    "df['Compound'] = sentiments_df['Compound'].values\n",
    "df['Positive'] = sentiments_df['Positive'].values\n",
    "df['Negative'] = sentiments_df['Negative'].values\n",
    "df['Neutral'] = sentiments_df['Neutral'].values\n",
    "df['Sentiment'] = sentiments_df['val'].values\n",
    "df"
   ]
  },
  {
   "cell_type": "code",
   "execution_count": 34,
   "id": "a2b279b1",
   "metadata": {},
   "outputs": [
    {
     "name": "stdout",
     "output_type": "stream",
     "text": [
      "'Sentiment' categories and it's number of occurrences'\n"
     ]
    },
    {
     "data": {
      "text/html": [
       "<table border=\"1\" class=\"dataframe\">\n",
       "  <thead>\n",
       "    <tr style=\"text-align: right;\">\n",
       "      <th></th>\n",
       "      <th>Sentiment</th>\n",
       "    </tr>\n",
       "  </thead>\n",
       "  <tbody>\n",
       "    <tr>\n",
       "      <th>Neutral</th>\n",
       "      <td>115</td>\n",
       "    </tr>\n",
       "    <tr>\n",
       "      <th>Positive</th>\n",
       "      <td>68</td>\n",
       "    </tr>\n",
       "    <tr>\n",
       "      <th>Negative</th>\n",
       "      <td>17</td>\n",
       "    </tr>\n",
       "  </tbody>\n",
       "</table>"
      ],
      "text/plain": [
       "<IPython.core.display.HTML object>"
      ]
     },
     "metadata": {},
     "output_type": "display_data"
    },
    {
     "name": "stdout",
     "output_type": "stream",
     "text": [
      "\n",
      "'place.name' categories and it's number of occurrences'\n"
     ]
    },
    {
     "data": {
      "text/html": [
       "<table border=\"1\" class=\"dataframe\">\n",
       "  <thead>\n",
       "    <tr style=\"text-align: right;\">\n",
       "      <th></th>\n",
       "      <th>place.name</th>\n",
       "    </tr>\n",
       "  </thead>\n",
       "  <tbody>\n",
       "    <tr>\n",
       "      <th>London</th>\n",
       "      <td>56</td>\n",
       "    </tr>\n",
       "    <tr>\n",
       "      <th>Camden Town</th>\n",
       "      <td>16</td>\n",
       "    </tr>\n",
       "    <tr>\n",
       "      <th>Islington</th>\n",
       "      <td>15</td>\n",
       "    </tr>\n",
       "    <tr>\n",
       "      <th>Camberwell</th>\n",
       "      <td>11</td>\n",
       "    </tr>\n",
       "    <tr>\n",
       "      <th>Paddington</th>\n",
       "      <td>10</td>\n",
       "    </tr>\n",
       "    <tr>\n",
       "      <th>Hackney</th>\n",
       "      <td>8</td>\n",
       "    </tr>\n",
       "    <tr>\n",
       "      <th>Poplar</th>\n",
       "      <td>7</td>\n",
       "    </tr>\n",
       "    <tr>\n",
       "      <th>Tottenham</th>\n",
       "      <td>7</td>\n",
       "    </tr>\n",
       "    <tr>\n",
       "      <th>City of London</th>\n",
       "      <td>7</td>\n",
       "    </tr>\n",
       "    <tr>\n",
       "      <th>Barnet</th>\n",
       "      <td>5</td>\n",
       "    </tr>\n",
       "    <tr>\n",
       "      <th>Hounslow</th>\n",
       "      <td>5</td>\n",
       "    </tr>\n",
       "    <tr>\n",
       "      <th>Hammersmith</th>\n",
       "      <td>5</td>\n",
       "    </tr>\n",
       "    <tr>\n",
       "      <th>Richmond</th>\n",
       "      <td>5</td>\n",
       "    </tr>\n",
       "    <tr>\n",
       "      <th>Wandsworth</th>\n",
       "      <td>4</td>\n",
       "    </tr>\n",
       "    <tr>\n",
       "      <th>Lambeth</th>\n",
       "      <td>4</td>\n",
       "    </tr>\n",
       "    <tr>\n",
       "      <th>Sutton</th>\n",
       "      <td>4</td>\n",
       "    </tr>\n",
       "    <tr>\n",
       "      <th>Bromley</th>\n",
       "      <td>4</td>\n",
       "    </tr>\n",
       "    <tr>\n",
       "      <th>Greenwich</th>\n",
       "      <td>3</td>\n",
       "    </tr>\n",
       "    <tr>\n",
       "      <th>Eltham</th>\n",
       "      <td>3</td>\n",
       "    </tr>\n",
       "    <tr>\n",
       "      <th>Hillingdon</th>\n",
       "      <td>3</td>\n",
       "    </tr>\n",
       "    <tr>\n",
       "      <th>Kensington</th>\n",
       "      <td>3</td>\n",
       "    </tr>\n",
       "    <tr>\n",
       "      <th>Kingston upon Thames</th>\n",
       "      <td>2</td>\n",
       "    </tr>\n",
       "    <tr>\n",
       "      <th>Brent</th>\n",
       "      <td>2</td>\n",
       "    </tr>\n",
       "    <tr>\n",
       "      <th>Merton</th>\n",
       "      <td>2</td>\n",
       "    </tr>\n",
       "    <tr>\n",
       "      <th>Walthamstow</th>\n",
       "      <td>2</td>\n",
       "    </tr>\n",
       "    <tr>\n",
       "      <th>East Ham</th>\n",
       "      <td>2</td>\n",
       "    </tr>\n",
       "    <tr>\n",
       "      <th>Southall</th>\n",
       "      <td>1</td>\n",
       "    </tr>\n",
       "    <tr>\n",
       "      <th>Watford</th>\n",
       "      <td>1</td>\n",
       "    </tr>\n",
       "    <tr>\n",
       "      <th>Croydon</th>\n",
       "      <td>1</td>\n",
       "    </tr>\n",
       "    <tr>\n",
       "      <th>Lewisham</th>\n",
       "      <td>1</td>\n",
       "    </tr>\n",
       "    <tr>\n",
       "      <th>Ealing</th>\n",
       "      <td>1</td>\n",
       "    </tr>\n",
       "  </tbody>\n",
       "</table>"
      ],
      "text/plain": [
       "<IPython.core.display.HTML object>"
      ]
     },
     "metadata": {},
     "output_type": "display_data"
    },
    {
     "name": "stdout",
     "output_type": "stream",
     "text": [
      "\n"
     ]
    }
   ],
   "source": [
    "categorical_columns= ['Sentiment', 'place.name']\n",
    "df1  = df#df[df['place.name'] == 'London']\n",
    "for col in categorical_columns:\n",
    "  print(f\"'{col}' categories and it's number of occurrences'\")\n",
    "  pretty_print_df(df1[col].value_counts())\n",
    "  print()"
   ]
  },
  {
   "cell_type": "code",
   "execution_count": 35,
   "id": "b7383cbc",
   "metadata": {},
   "outputs": [
    {
     "name": "stdout",
     "output_type": "stream",
     "text": [
      "26    [officially leg fire yesterday killer leg sess...\n",
      "27    [well cask sucker ryedrink wryneck rye thamess...\n",
      "50     [waste time look loselife mean travel backwards]\n",
      "Name: text, dtype: object\n",
      "0    [cool coolice cold matcha lattesimple n delish...\n",
      "4    [byelondon soonsolongfarewelladieu parting swe...\n",
      "5           [uniform arrrivego look smart campdayplus]\n",
      "Name: text, dtype: object\n",
      "1                               [surreyrugcare cheam ]\n",
      "2    [unveil new logonew logo alertnew logo look li...\n",
      "3    [house spangle swimwearexclusive print apparel...\n",
      "Name: text, dtype: object\n"
     ]
    }
   ],
   "source": [
    "print(sentiments_df[sentiments_df['val'] == 'Negative']['text'].head(3))\n",
    "print(sentiments_df[sentiments_df['val'] == 'Positive']['text'].head(3))\n",
    "print(sentiments_df[sentiments_df['val'] == 'Neutral']['text'].head(3))"
   ]
  },
  {
   "cell_type": "code",
   "execution_count": 36,
   "id": "575990b0",
   "metadata": {},
   "outputs": [],
   "source": [
    "from sklearn.cluster import KMeans\n",
    " \n",
    "#Initialize the class object\n",
    "kmeans = KMeans(n_clusters= 6)\n",
    "X = sentiments_df[['Positive','Negative']]\n",
    "#predict the labels of clusters.\n",
    "label = kmeans.fit_predict(X)\n",
    "y_kmeans = kmeans.predict(X)"
   ]
  },
  {
   "cell_type": "code",
   "execution_count": 37,
   "id": "5a4b7a6b",
   "metadata": {},
   "outputs": [
    {
     "data": {
      "image/png": "[encoded data removed]",
      "text/plain": [
       "<Figure size 432x288 with 1 Axes>"
      ]
     },
     "metadata": {
      "needs_background": "light"
     },
     "output_type": "display_data"
    }
   ],
   "source": [
    "N = 198\n",
    "c = np.random.randint(-1, 1,N)\n",
    "scatter=plt.scatter(sentiments_df['Positive'],  sentiments_df['Negative'] , c=y_kmeans, s=50, cmap='PiYG')\n",
    "scatter.legend_elements()\n",
    "plt.title('Scatter plot of sentiment analysis')\n",
    "#plt.tricontourf(sentiments_df['Positive'],  sentiments_df['Negative'], sentiments_df['Neutral'])\n",
    "plt.ylabel('Negative')\n",
    "plt.xlabel('Positive')\n",
    "plt.legend(*scatter.legend_elements(), loc=\"upper right\", title=\"Classes\")\n",
    "plt.show()"
   ]
  },
  {
   "cell_type": "markdown",
   "id": "f697b142",
   "metadata": {},
   "source": [
    "# Visualisation"
   ]
  },
  {
   "cell_type": "code",
   "execution_count": 38,
   "id": "05660e19",
   "metadata": {},
   "outputs": [],
   "source": [
    "df1 = df.between_time('16:00', '18:59')\n",
    "df2 = df.between_time('6:30', '9:29')\n",
    "peak1 = [df1,df2]\n",
    "peak = pd.concat(peak1)\n",
    "df3 = df.between_time('9:30', '15:59')\n",
    "df4 = df.between_time('19:00', '6:30')\n",
    "off_peak1 = [df3,df4]\n",
    "off_peak = pd.concat(off_peak1)"
   ]
  },
  {
   "cell_type": "code",
   "execution_count": 39,
   "id": "3e2967c1",
   "metadata": {},
   "outputs": [
    {
     "name": "stderr",
     "output_type": "stream",
     "text": [
      "/opt/conda/lib/python3.9/site-packages/arcgis/features/geo/_io/fileops.py:190: SettingWithCopyWarning: \n",
      "A value is trying to be set on a copy of a slice from a DataFrame.\n",
      "Try using .loc[row_indexer,col_indexer] = value instead\n",
      "\n",
      "See the caveats in the documentation: https://pandas.pydata.org/pandas-docs/stable/user_guide/indexing.html#returning-a-view-versus-a-copy\n",
      "  df[\"SHAPE\"] = GeoArray(ags_geom)\n"
     ]
    },
    {
     "data": {
      "text/html": [
       "<div>\n",
       "<style scoped>\n",
       "    .dataframe tbody tr th:only-of-type {\n",
       "        vertical-align: middle;\n",
       "    }\n",
       "\n",
       "    .dataframe tbody tr th {\n",
       "        vertical-align: top;\n",
       "    }\n",
       "\n",
       "    .dataframe thead th {\n",
       "        text-align: right;\n",
       "    }\n",
       "</style>\n",
       "<table border=\"1\" class=\"dataframe\">\n",
       "  <thead>\n",
       "    <tr style=\"text-align: right;\">\n",
       "      <th></th>\n",
       "      <th>user.id</th>\n",
       "      <th>text</th>\n",
       "      <th>place.name</th>\n",
       "      <th>LATITUDE</th>\n",
       "      <th>LONGITUDE</th>\n",
       "      <th>coordinates.coordinates</th>\n",
       "      <th>place.bounding_box.coordinates</th>\n",
       "      <th>Compound</th>\n",
       "      <th>Positive</th>\n",
       "      <th>Negative</th>\n",
       "      <th>Neutral</th>\n",
       "      <th>Sentiment</th>\n",
       "      <th>SHAPE</th>\n",
       "    </tr>\n",
       "    <tr>\n",
       "      <th>created_at</th>\n",
       "      <th></th>\n",
       "      <th></th>\n",
       "      <th></th>\n",
       "      <th></th>\n",
       "      <th></th>\n",
       "      <th></th>\n",
       "      <th></th>\n",
       "      <th></th>\n",
       "      <th></th>\n",
       "      <th></th>\n",
       "      <th></th>\n",
       "      <th></th>\n",
       "      <th></th>\n",
       "    </tr>\n",
       "  </thead>\n",
       "  <tbody>\n",
       "    <tr>\n",
       "      <th>2018-07-26 16:00:04+00:00</th>\n",
       "      <td>469453776</td>\n",
       "      <td>wimbledon ukstormyprecipitationnowcdetail</td>\n",
       "      <td>Merton</td>\n",
       "      <td>51.396667</td>\n",
       "      <td>-0.237222</td>\n",
       "      <td>[-0.23722222,51.39666667]</td>\n",
       "      <td>[[[-0.254269,51.379947],[-0.254269,51.441804],...</td>\n",
       "      <td>0.0000</td>\n",
       "      <td>0.000</td>\n",
       "      <td>0.000</td>\n",
       "      <td>1.000</td>\n",
       "      <td>Neutral</td>\n",
       "      <td>{\"spatialReference\": {\"wkid\": 4326}, \"x\": -0.2...</td>\n",
       "    </tr>\n",
       "    <tr>\n",
       "      <th>2018-07-26 16:00:41+00:00</th>\n",
       "      <td>132550870</td>\n",
       "      <td>excited dannic ministryclub th augusttag frien...</td>\n",
       "      <td>Camberwell</td>\n",
       "      <td>51.497484</td>\n",
       "      <td>-0.099405</td>\n",
       "      <td>[-0.0994055,51.4974845]</td>\n",
       "      <td>[[[-0.111476,51.419425],[-0.111476,51.509947],...</td>\n",
       "      <td>0.6808</td>\n",
       "      <td>0.444</td>\n",
       "      <td>0.000</td>\n",
       "      <td>0.556</td>\n",
       "      <td>Positive</td>\n",
       "      <td>{\"spatialReference\": {\"wkid\": 4326}, \"x\": -0.0...</td>\n",
       "    </tr>\n",
       "    <tr>\n",
       "      <th>2018-07-26 16:00:52+00:00</th>\n",
       "      <td>1904497855</td>\n",
       "      <td>today champion mean diversity initiativepillar...</td>\n",
       "      <td>Camden Town</td>\n",
       "      <td>51.520000</td>\n",
       "      <td>-0.119298</td>\n",
       "      <td>[-0.11929803,51.52000004]</td>\n",
       "      <td>[[[-0.213503,51.512805],[-0.213503,51.572068],...</td>\n",
       "      <td>0.6249</td>\n",
       "      <td>0.445</td>\n",
       "      <td>0.208</td>\n",
       "      <td>0.347</td>\n",
       "      <td>Positive</td>\n",
       "      <td>{\"spatialReference\": {\"wkid\": 4326}, \"x\": -0.1...</td>\n",
       "    </tr>\n",
       "    <tr>\n",
       "      <th>2018-07-26 16:00:54+00:00</th>\n",
       "      <td>768000000000000000</td>\n",
       "      <td>stick tube hot day yearhead homecomember taste...</td>\n",
       "      <td>City of London</td>\n",
       "      <td>51.510462</td>\n",
       "      <td>-0.085545</td>\n",
       "      <td>[-0.0855448,51.5104621]</td>\n",
       "      <td>[[[-0.112442,51.5068],[-0.112442,51.522161],[-...</td>\n",
       "      <td>0.0000</td>\n",
       "      <td>0.000</td>\n",
       "      <td>0.000</td>\n",
       "      <td>1.000</td>\n",
       "      <td>Neutral</td>\n",
       "      <td>{\"spatialReference\": {\"wkid\": 4326}, \"x\": -0.0...</td>\n",
       "    </tr>\n",
       "    <tr>\n",
       "      <th>2018-07-26 16:01:08+00:00</th>\n",
       "      <td>702000000000000000</td>\n",
       "      <td>m paymillion defective military ear plugt</td>\n",
       "      <td>Barnet</td>\n",
       "      <td>51.606641</td>\n",
       "      <td>-0.198339</td>\n",
       "      <td>[-0.19833863,51.60664115]</td>\n",
       "      <td>[[[-0.292579,51.555179],[-0.292579,51.66859],[...</td>\n",
       "      <td>-0.4404</td>\n",
       "      <td>0.000</td>\n",
       "      <td>0.367</td>\n",
       "      <td>0.633</td>\n",
       "      <td>Negative</td>\n",
       "      <td>{\"spatialReference\": {\"wkid\": 4326}, \"x\": -0.1...</td>\n",
       "    </tr>\n",
       "    <tr>\n",
       "      <th>...</th>\n",
       "      <td>...</td>\n",
       "      <td>...</td>\n",
       "      <td>...</td>\n",
       "      <td>...</td>\n",
       "      <td>...</td>\n",
       "      <td>...</td>\n",
       "      <td>...</td>\n",
       "      <td>...</td>\n",
       "      <td>...</td>\n",
       "      <td>...</td>\n",
       "      <td>...</td>\n",
       "      <td>...</td>\n",
       "      <td>...</td>\n",
       "    </tr>\n",
       "    <tr>\n",
       "      <th>2018-07-26 17:01:53+00:00</th>\n",
       "      <td>1365521923</td>\n",
       "      <td>time week get ready night finish chemotherapye...</td>\n",
       "      <td>Islington</td>\n",
       "      <td>51.546337</td>\n",
       "      <td>-0.115505</td>\n",
       "      <td>[-0.11550531,51.54633655]</td>\n",
       "      <td>[[[-0.142058,51.518552],[-0.142058,51.575301],...</td>\n",
       "      <td>0.3612</td>\n",
       "      <td>0.263</td>\n",
       "      <td>0.000</td>\n",
       "      <td>0.737</td>\n",
       "      <td>Positive</td>\n",
       "      <td>{\"spatialReference\": {\"wkid\": 4326}, \"x\": -0.1...</td>\n",
       "    </tr>\n",
       "    <tr>\n",
       "      <th>2018-07-26 17:02:13+00:00</th>\n",
       "      <td>586017139</td>\n",
       "      <td>great week ready play week tomorrowtheatrepupp...</td>\n",
       "      <td>Camberwell</td>\n",
       "      <td>51.503951</td>\n",
       "      <td>-0.080904</td>\n",
       "      <td>[-0.08090444,51.50395133]</td>\n",
       "      <td>[[[-0.111476,51.419425],[-0.111476,51.509947],...</td>\n",
       "      <td>0.8402</td>\n",
       "      <td>0.692</td>\n",
       "      <td>0.000</td>\n",
       "      <td>0.308</td>\n",
       "      <td>Positive</td>\n",
       "      <td>{\"spatialReference\": {\"wkid\": 4326}, \"x\": -0.0...</td>\n",
       "    </tr>\n",
       "    <tr>\n",
       "      <th>2018-07-26 17:02:14+00:00</th>\n",
       "      <td>2164406816</td>\n",
       "      <td>great client lunch todaythank comepropertyprop...</td>\n",
       "      <td>Paddington</td>\n",
       "      <td>51.516796</td>\n",
       "      <td>-0.136244</td>\n",
       "      <td>[-0.1362441,51.5167961]</td>\n",
       "      <td>[[[-0.21607,51.509879],[-0.21607,51.539792],[-...</td>\n",
       "      <td>0.6249</td>\n",
       "      <td>0.506</td>\n",
       "      <td>0.000</td>\n",
       "      <td>0.494</td>\n",
       "      <td>Positive</td>\n",
       "      <td>{\"spatialReference\": {\"wkid\": 4326}, \"x\": -0.1...</td>\n",
       "    </tr>\n",
       "    <tr>\n",
       "      <th>2018-07-26 17:02:58+00:00</th>\n",
       "      <td>2882536427</td>\n",
       "      <td>rain drop require heatnemnemrestaurafreshmikee...</td>\n",
       "      <td>Islington</td>\n",
       "      <td>51.540199</td>\n",
       "      <td>-0.102373</td>\n",
       "      <td>[-0.1023726,51.5401993]</td>\n",
       "      <td>[[[-0.142058,51.518552],[-0.142058,51.575301],...</td>\n",
       "      <td>-0.2732</td>\n",
       "      <td>0.000</td>\n",
       "      <td>0.296</td>\n",
       "      <td>0.704</td>\n",
       "      <td>Negative</td>\n",
       "      <td>{\"spatialReference\": {\"wkid\": 4326}, \"x\": -0.1...</td>\n",
       "    </tr>\n",
       "    <tr>\n",
       "      <th>2018-07-26 17:03:05+00:00</th>\n",
       "      <td>626406631</td>\n",
       "      <td>rise unconditional offer prompt university adm...</td>\n",
       "      <td>Eltham</td>\n",
       "      <td>51.483949</td>\n",
       "      <td>0.098877</td>\n",
       "      <td>[0.09887695,51.48394855]</td>\n",
       "      <td>[[[0.045148,51.423888],[0.045148,51.512916],[0...</td>\n",
       "      <td>0.0000</td>\n",
       "      <td>0.000</td>\n",
       "      <td>0.000</td>\n",
       "      <td>1.000</td>\n",
       "      <td>Neutral</td>\n",
       "      <td>{\"spatialReference\": {\"wkid\": 4326}, \"x\": 0.09...</td>\n",
       "    </tr>\n",
       "  </tbody>\n",
       "</table>\n",
       "<p>79 rows × 13 columns</p>\n",
       "</div>"
      ],
      "text/plain": [
       "                                      user.id  \\\n",
       "created_at                                      \n",
       "2018-07-26 16:00:04+00:00           469453776   \n",
       "2018-07-26 16:00:41+00:00           132550870   \n",
       "2018-07-26 16:00:52+00:00          1904497855   \n",
       "2018-07-26 16:00:54+00:00  768000000000000000   \n",
       "2018-07-26 16:01:08+00:00  702000000000000000   \n",
       "...                                       ...   \n",
       "2018-07-26 17:01:53+00:00          1365521923   \n",
       "2018-07-26 17:02:13+00:00           586017139   \n",
       "2018-07-26 17:02:14+00:00          2164406816   \n",
       "2018-07-26 17:02:58+00:00          2882536427   \n",
       "2018-07-26 17:03:05+00:00           626406631   \n",
       "\n",
       "                                                                        text  \\\n",
       "created_at                                                                     \n",
       "2018-07-26 16:00:04+00:00         wimbledon ukstormyprecipitationnowcdetail    \n",
       "2018-07-26 16:00:41+00:00  excited dannic ministryclub th augusttag frien...   \n",
       "2018-07-26 16:00:52+00:00  today champion mean diversity initiativepillar...   \n",
       "2018-07-26 16:00:54+00:00  stick tube hot day yearhead homecomember taste...   \n",
       "2018-07-26 16:01:08+00:00         m paymillion defective military ear plugt    \n",
       "...                                                                      ...   \n",
       "2018-07-26 17:01:53+00:00  time week get ready night finish chemotherapye...   \n",
       "2018-07-26 17:02:13+00:00  great week ready play week tomorrowtheatrepupp...   \n",
       "2018-07-26 17:02:14+00:00  great client lunch todaythank comepropertyprop...   \n",
       "2018-07-26 17:02:58+00:00  rain drop require heatnemnemrestaurafreshmikee...   \n",
       "2018-07-26 17:03:05+00:00  rise unconditional offer prompt university adm...   \n",
       "\n",
       "                               place.name   LATITUDE  LONGITUDE  \\\n",
       "created_at                                                        \n",
       "2018-07-26 16:00:04+00:00          Merton  51.396667  -0.237222   \n",
       "2018-07-26 16:00:41+00:00      Camberwell  51.497484  -0.099405   \n",
       "2018-07-26 16:00:52+00:00     Camden Town  51.520000  -0.119298   \n",
       "2018-07-26 16:00:54+00:00  City of London  51.510462  -0.085545   \n",
       "2018-07-26 16:01:08+00:00          Barnet  51.606641  -0.198339   \n",
       "...                                   ...        ...        ...   \n",
       "2018-07-26 17:01:53+00:00       Islington  51.546337  -0.115505   \n",
       "2018-07-26 17:02:13+00:00      Camberwell  51.503951  -0.080904   \n",
       "2018-07-26 17:02:14+00:00      Paddington  51.516796  -0.136244   \n",
       "2018-07-26 17:02:58+00:00       Islington  51.540199  -0.102373   \n",
       "2018-07-26 17:03:05+00:00          Eltham  51.483949   0.098877   \n",
       "\n",
       "                             coordinates.coordinates  \\\n",
       "created_at                                             \n",
       "2018-07-26 16:00:04+00:00  [-0.23722222,51.39666667]   \n",
       "2018-07-26 16:00:41+00:00    [-0.0994055,51.4974845]   \n",
       "2018-07-26 16:00:52+00:00  [-0.11929803,51.52000004]   \n",
       "2018-07-26 16:00:54+00:00    [-0.0855448,51.5104621]   \n",
       "2018-07-26 16:01:08+00:00  [-0.19833863,51.60664115]   \n",
       "...                                              ...   \n",
       "2018-07-26 17:01:53+00:00  [-0.11550531,51.54633655]   \n",
       "2018-07-26 17:02:13+00:00  [-0.08090444,51.50395133]   \n",
       "2018-07-26 17:02:14+00:00    [-0.1362441,51.5167961]   \n",
       "2018-07-26 17:02:58+00:00    [-0.1023726,51.5401993]   \n",
       "2018-07-26 17:03:05+00:00   [0.09887695,51.48394855]   \n",
       "\n",
       "                                              place.bounding_box.coordinates  \\\n",
       "created_at                                                                     \n",
       "2018-07-26 16:00:04+00:00  [[[-0.254269,51.379947],[-0.254269,51.441804],...   \n",
       "2018-07-26 16:00:41+00:00  [[[-0.111476,51.419425],[-0.111476,51.509947],...   \n",
       "2018-07-26 16:00:52+00:00  [[[-0.213503,51.512805],[-0.213503,51.572068],...   \n",
       "2018-07-26 16:00:54+00:00  [[[-0.112442,51.5068],[-0.112442,51.522161],[-...   \n",
       "2018-07-26 16:01:08+00:00  [[[-0.292579,51.555179],[-0.292579,51.66859],[...   \n",
       "...                                                                      ...   \n",
       "2018-07-26 17:01:53+00:00  [[[-0.142058,51.518552],[-0.142058,51.575301],...   \n",
       "2018-07-26 17:02:13+00:00  [[[-0.111476,51.419425],[-0.111476,51.509947],...   \n",
       "2018-07-26 17:02:14+00:00  [[[-0.21607,51.509879],[-0.21607,51.539792],[-...   \n",
       "2018-07-26 17:02:58+00:00  [[[-0.142058,51.518552],[-0.142058,51.575301],...   \n",
       "2018-07-26 17:03:05+00:00  [[[0.045148,51.423888],[0.045148,51.512916],[0...   \n",
       "\n",
       "                           Compound  Positive  Negative  Neutral Sentiment  \\\n",
       "created_at                                                                   \n",
       "2018-07-26 16:00:04+00:00    0.0000     0.000     0.000    1.000   Neutral   \n",
       "2018-07-26 16:00:41+00:00    0.6808     0.444     0.000    0.556  Positive   \n",
       "2018-07-26 16:00:52+00:00    0.6249     0.445     0.208    0.347  Positive   \n",
       "2018-07-26 16:00:54+00:00    0.0000     0.000     0.000    1.000   Neutral   \n",
       "2018-07-26 16:01:08+00:00   -0.4404     0.000     0.367    0.633  Negative   \n",
       "...                             ...       ...       ...      ...       ...   \n",
       "2018-07-26 17:01:53+00:00    0.3612     0.263     0.000    0.737  Positive   \n",
       "2018-07-26 17:02:13+00:00    0.8402     0.692     0.000    0.308  Positive   \n",
       "2018-07-26 17:02:14+00:00    0.6249     0.506     0.000    0.494  Positive   \n",
       "2018-07-26 17:02:58+00:00   -0.2732     0.000     0.296    0.704  Negative   \n",
       "2018-07-26 17:03:05+00:00    0.0000     0.000     0.000    1.000   Neutral   \n",
       "\n",
       "                                                                       SHAPE  \n",
       "created_at                                                                    \n",
       "2018-07-26 16:00:04+00:00  {\"spatialReference\": {\"wkid\": 4326}, \"x\": -0.2...  \n",
       "2018-07-26 16:00:41+00:00  {\"spatialReference\": {\"wkid\": 4326}, \"x\": -0.0...  \n",
       "2018-07-26 16:00:52+00:00  {\"spatialReference\": {\"wkid\": 4326}, \"x\": -0.1...  \n",
       "2018-07-26 16:00:54+00:00  {\"spatialReference\": {\"wkid\": 4326}, \"x\": -0.0...  \n",
       "2018-07-26 16:01:08+00:00  {\"spatialReference\": {\"wkid\": 4326}, \"x\": -0.1...  \n",
       "...                                                                      ...  \n",
       "2018-07-26 17:01:53+00:00  {\"spatialReference\": {\"wkid\": 4326}, \"x\": -0.1...  \n",
       "2018-07-26 17:02:13+00:00  {\"spatialReference\": {\"wkid\": 4326}, \"x\": -0.0...  \n",
       "2018-07-26 17:02:14+00:00  {\"spatialReference\": {\"wkid\": 4326}, \"x\": -0.1...  \n",
       "2018-07-26 17:02:58+00:00  {\"spatialReference\": {\"wkid\": 4326}, \"x\": -0.1...  \n",
       "2018-07-26 17:03:05+00:00  {\"spatialReference\": {\"wkid\": 4326}, \"x\": 0.09...  \n",
       "\n",
       "[79 rows x 13 columns]"
      ]
     },
     "execution_count": 39,
     "metadata": {},
     "output_type": "execute_result"
    }
   ],
   "source": [
    "#create spatial enable dataframe for whole data, peak and off-peak times.\n",
    "off_peak_sdf = pd.DataFrame.spatial.from_xy(off_peak, 'LONGITUDE','LATITUDE')\n",
    "peak_sdf  = pd.DataFrame.spatial.from_xy(peak, 'LONGITUDE','LATITUDE')\n",
    "sdf  = pd.DataFrame.spatial.from_xy(df, 'LONGITUDE','LATITUDE')\n",
    "peak_sdf"
   ]
  },
  {
   "cell_type": "code",
   "execution_count": 40,
   "id": "7188fa4c",
   "metadata": {},
   "outputs": [],
   "source": [
    "gis = GIS('home')"
   ]
  },
  {
   "cell_type": "code",
   "execution_count": 41,
   "id": "bad6b7c4",
   "metadata": {
    "scrolled": true
   },
   "outputs": [],
   "source": [
    "#Load London Map\n",
    "map_item = gis.content.get(\"774de3b4b9f047dda0851a37efedf789\")"
   ]
  },
  {
   "cell_type": "code",
   "execution_count": 42,
   "id": "1807256b",
   "metadata": {},
   "outputs": [
    {
     "data": {
      "application/vnd.jupyter.widget-view+json": {
       "model_id": "ccfd1cce09464463b38d827eb265bf63",
       "version_major": 2,
       "version_minor": 0
      },
      "text/plain": [
       "MapView(layout=Layout(height='400px', width='100%'), legend=True)"
      ]
     },
     "metadata": {},
     "output_type": "display_data"
    },
    {
     "data": {
      "text/html": [
       "<div class=\"map-static-img-preview-fa1117df-560b-4317-b2f6-c6a7e5c33f45\"><img src=\"\"></img></div>"
      ],
      "text/plain": [
       "<IPython.core.display.HTML object>"
      ]
     },
     "metadata": {},
     "output_type": "display_data"
    },
    {
     "data": {
      "text/html": [
       "<div class=\"map-html-embed-preview-fa1117df-560b-4317-b2f6-c6a7e5c33f45\"></div>"
      ],
      "text/plain": [
       "<IPython.core.display.HTML object>"
      ]
     },
     "metadata": {},
     "output_type": "display_data"
    }
   ],
   "source": [
    "#Load London Map\n",
    "londonMap_h = gis.map(map_item)\n",
    "# Create a heat map for whole dataset\n",
    "sdf.drop(['Sentiment'], axis = 1).spatial.plot(map_widget=londonMap_h,\n",
    "                renderer_type='h',\n",
    "                symbol_type='simple',\n",
    "                colorRamp = {\"type\":\"algorithmic\", \"fromColor\":[133,193,200,0], \"toColor\":[255,255,0,0], \"algorithm\": \"esriHSVAlgorithm\" },\n",
    "                cstep=50,\n",
    "                ratio = 0.01,\n",
    "                marker_size=10)\n",
    "\n",
    "londonMap_h.legend = True\n",
    "londonMap_h"
   ]
  },
  {
   "cell_type": "code",
   "execution_count": 43,
   "id": "e61aa4a2",
   "metadata": {},
   "outputs": [
    {
     "data": {
      "application/vnd.jupyter.widget-view+json": {
       "model_id": "f60a61dd40924efe99b202662e4d7410",
       "version_major": 2,
       "version_minor": 0
      },
      "text/plain": [
       "MapView(layout=Layout(height='400px', width='100%'), legend=True)"
      ]
     },
     "metadata": {},
     "output_type": "display_data"
    },
    {
     "data": {
      "text/html": [
       "<div class=\"map-static-img-preview-5c67e8a8-4185-4e1c-92ff-ada7f0b7f733\"><img src=\"\"></img></div>"
      ],
      "text/plain": [
       "<IPython.core.display.HTML object>"
      ]
     },
     "metadata": {},
     "output_type": "display_data"
    },
    {
     "data": {
      "text/html": [
       "<div class=\"map-html-embed-preview-5c67e8a8-4185-4e1c-92ff-ada7f0b7f733\"></div>"
      ],
      "text/plain": [
       "<IPython.core.display.HTML object>"
      ]
     },
     "metadata": {},
     "output_type": "display_data"
    }
   ],
   "source": [
    "#Load London Map\n",
    "londonMap_peak_h = gis.map(map_item)\n",
    "# Create a heat map peak times\n",
    "peak_sdf.drop(['Sentiment'], axis = 1).spatial.plot(map_widget=londonMap_peak_h,\n",
    "                renderer_type='h',\n",
    "                symbol_type='simple',\n",
    "                colorRamp = {\"type\":\"algorithmic\", \"fromColor\":[133,193,200,0], \"toColor\":[255,255,0,0], \"algorithm\": \"esriHSVAlgorithm\" },\n",
    "                cstep=50,\n",
    "                ratio = 0.01,\n",
    "                marker_size=10)\n",
    "londonMap_peak_h.legend = True\n",
    "londonMap_peak_h"
   ]
  },
  {
   "cell_type": "code",
   "execution_count": 44,
   "id": "51ed5010",
   "metadata": {},
   "outputs": [
    {
     "data": {
      "application/vnd.jupyter.widget-view+json": {
       "model_id": "a8a8c7ba20e546fd9c05e0d070daa0db",
       "version_major": 2,
       "version_minor": 0
      },
      "text/plain": [
       "MapView(layout=Layout(height='400px', width='100%'), legend=True)"
      ]
     },
     "metadata": {},
     "output_type": "display_data"
    },
    {
     "data": {
      "text/html": [
       "<div class=\"map-static-img-preview-2aeefa85-589c-41ed-9e53-b2b8d329cecb\"><img src=\"\"></img></div>"
      ],
      "text/plain": [
       "<IPython.core.display.HTML object>"
      ]
     },
     "metadata": {},
     "output_type": "display_data"
    },
    {
     "data": {
      "text/html": [
       "<div class=\"map-html-embed-preview-2aeefa85-589c-41ed-9e53-b2b8d329cecb\"></div>"
      ],
      "text/plain": [
       "<IPython.core.display.HTML object>"
      ]
     },
     "metadata": {},
     "output_type": "display_data"
    }
   ],
   "source": [
    "#Load London Map\n",
    "londonMap_off_peak_h = gis.map(map_item)\n",
    "# Create a heat map off-peak times\n",
    "off_peak_sdf.drop(['Sentiment'], axis = 1).spatial.plot(map_widget=londonMap_off_peak_h,\n",
    "                renderer_type='h',\n",
    "                symbol_type='simple',\n",
    "                colorRamp = {\"type\":\"algorithmic\", \"fromColor\":[133,193,200,0], \"toColor\":[255,255,0,0], \"algorithm\": \"esriHSVAlgorithm\" },\n",
    "                cstep=50,\n",
    "                ratio = 0.01,\n",
    "                marker_size=10,\n",
    "                height = 40,\n",
    "                         width = 60)\n",
    "\n",
    "londonMap_off_peak_h.legend = True\n",
    "londonMap_off_peak_h"
   ]
  },
  {
   "cell_type": "code",
   "execution_count": 45,
   "id": "59fe8c33",
   "metadata": {},
   "outputs": [
    {
     "name": "stdout",
     "output_type": "stream",
     "text": [
      "html saved as /arcgis/home/peak_h.html\n",
      "html saved as /arcgis/home/off_peak_h.html\n",
      "html saved as /arcgis/home/data_h.html\n"
     ]
    }
   ],
   "source": [
    "# Save the peak map as html file\n",
    "file_dir = os.path.join(os.getcwd(),'home')\n",
    "# file_dir = os.path.join(os.path.expanduser(\"~\"), \"Desktop\")\n",
    "\n",
    "if not os.path.isdir(file_dir):\n",
    "    os.mkdir(file_dir)\n",
    "    \n",
    "file_path_peak = os.path.join(file_dir, 'peak_h.html')\n",
    "\n",
    "londonMap_peak_h.export_to_html(file_path_peak)\n",
    "print(\"html saved as \" + file_path_peak) \n",
    "\n",
    "# Save the off-peak map as html file    \n",
    "file_path_opeak = os.path.join(file_dir, 'off_peak_h.html')\n",
    "\n",
    "londonMap_off_peak_h.export_to_html(file_path_opeak)\n",
    "print(\"html saved as \" + file_path_opeak)\n",
    "\n",
    "\n",
    "# Save the map as html file    \n",
    "file_path_data = os.path.join(file_dir, 'data_h.html')\n",
    "\n",
    "londonMap_h.export_to_html(file_path_data)\n",
    "print(\"html saved as \" + file_path_data) "
   ]
  },
  {
   "cell_type": "code",
   "execution_count": 46,
   "id": "7730815c",
   "metadata": {
    "scrolled": true
   },
   "outputs": [
    {
     "data": {
      "application/vnd.jupyter.widget-view+json": {
       "model_id": "1fd3017955be40a0ab66103334fadaad",
       "version_major": 2,
       "version_minor": 0
      },
      "text/plain": [
       "MapView(layout=Layout(height='400px', width='100%'), legend=True)"
      ]
     },
     "metadata": {},
     "output_type": "display_data"
    },
    {
     "data": {
      "text/html": [
       "<div class=\"map-static-img-preview-d9e17894-06da-4e17-bdf8-002c7f349a07\"><img src=\"\"></img></div>"
      ],
      "text/plain": [
       "<IPython.core.display.HTML object>"
      ]
     },
     "metadata": {},
     "output_type": "display_data"
    },
    {
     "data": {
      "text/html": [
       "<div class=\"map-html-embed-preview-d9e17894-06da-4e17-bdf8-002c7f349a07\"></div>"
      ],
      "text/plain": [
       "<IPython.core.display.HTML object>"
      ]
     },
     "metadata": {},
     "output_type": "display_data"
    }
   ],
   "source": [
    "londonMap = gis.map(map_item)\n",
    "sdf.spatial.plot(map_widget=londonMap,\n",
    "                renderer_type='u',\n",
    "                col = 'Sentiment',\n",
    "                symbol_type='simple',\n",
    "                symbol_style='d', # d - for diamonds\n",
    "                colors=['Reds_r','Oranges','Greens_r'],\n",
    "                cstep=50,\n",
    "                outline_color='Blues',\n",
    "                marker_size=10)\n",
    "londonMap.legend = True\n",
    "londonMap"
   ]
  },
  {
   "cell_type": "code",
   "execution_count": 51,
   "id": "1f3892e4",
   "metadata": {},
   "outputs": [
    {
     "data": {
      "application/vnd.jupyter.widget-view+json": {
       "model_id": "1e331d204ec445649a746737bbbd2000",
       "version_major": 2,
       "version_minor": 0
      },
      "text/plain": [
       "MapView(layout=Layout(height='400px', width='100%'), legend=True)"
      ]
     },
     "metadata": {},
     "output_type": "display_data"
    },
    {
     "data": {
      "text/html": [
       "<div class=\"map-static-img-preview-c820d1bc-8518-412c-a546-003f0353512f\"><img src=\"\"></img></div>"
      ],
      "text/plain": [
       "<IPython.core.display.HTML object>"
      ]
     },
     "metadata": {},
     "output_type": "display_data"
    },
    {
     "data": {
      "text/html": [
       "<div class=\"map-html-embed-preview-c820d1bc-8518-412c-a546-003f0353512f\"></div>"
      ],
      "text/plain": [
       "<IPython.core.display.HTML object>"
      ]
     },
     "metadata": {},
     "output_type": "display_data"
    }
   ],
   "source": [
    "londonMap_off_peak = gis.map(map_item)\n",
    "peak_sdf.spatial.plot(map_widget=londonMap_off_peak,\n",
    "                renderer_type='u',\n",
    "                col = 'Sentiment',\n",
    "                symbol_type='simple',\n",
    "                symbol_style='d', # d - for diamonds\n",
    "                colors=['Reds_r','Oranges','Greens_r'],\n",
    "                cstep=50,\n",
    "                outline_color='Blues',\n",
    "                marker_size=10)\n",
    "londonMap_off_peak.legend = True\n",
    "londonMap_off_peak"
   ]
  },
  {
   "cell_type": "code",
   "execution_count": 52,
   "id": "e5683881",
   "metadata": {},
   "outputs": [
    {
     "data": {
      "application/vnd.jupyter.widget-view+json": {
       "model_id": "39ff7b93a0a14446a0865dbfcdccabbe",
       "version_major": 2,
       "version_minor": 0
      },
      "text/plain": [
       "MapView(layout=Layout(height='400px', width='100%'), legend=True)"
      ]
     },
     "metadata": {},
     "output_type": "display_data"
    },
    {
     "data": {
      "text/html": [
       "<div class=\"map-static-img-preview-42d81fed-4b98-4453-9365-3eb9bdd81309\"><img src=\"\"></img></div>"
      ],
      "text/plain": [
       "<IPython.core.display.HTML object>"
      ]
     },
     "metadata": {},
     "output_type": "display_data"
    },
    {
     "data": {
      "text/html": [
       "<div class=\"map-html-embed-preview-42d81fed-4b98-4453-9365-3eb9bdd81309\"></div>"
      ],
      "text/plain": [
       "<IPython.core.display.HTML object>"
      ]
     },
     "metadata": {},
     "output_type": "display_data"
    }
   ],
   "source": [
    "londonMap_off_peak = gis.map(map_item)\n",
    "off_peak_sdf.spatial.plot(map_widget=londonMap_off_peak,\n",
    "                renderer_type='u',\n",
    "                col = 'Sentiment',\n",
    "                symbol_type='simple',\n",
    "                symbol_style='d', # d - for diamonds\n",
    "                colors=['Reds_r','Oranges','Greens_r'],\n",
    "                cstep=50,\n",
    "                outline_color='Blues',\n",
    "                marker_size=10)\n",
    "londonMap_off_peak.legend = True\n",
    "londonMap_off_peak"
   ]
  },
  {
   "cell_type": "code",
   "execution_count": 53,
   "id": "ae591785",
   "metadata": {},
   "outputs": [
    {
     "name": "stdout",
     "output_type": "stream",
     "text": [
      "html saved as /arcgis/home/peak.html\n",
      "html saved as /arcgis/home/off_peak.html\n",
      "html saved as /arcgis/home/data.html\n"
     ]
    }
   ],
   "source": [
    "file_path_peak = os.path.join(file_dir, 'peak.html')\n",
    "\n",
    "londonMap_peak_h.export_to_html(file_path_peak)\n",
    "print(\"html saved as \" + file_path_peak) \n",
    "\n",
    "# Save the off-peak map as html file    \n",
    "file_path_opeak = os.path.join(file_dir, 'off_peak.html')\n",
    "\n",
    "londonMap_off_peak_h.export_to_html(file_path_opeak)\n",
    "print(\"html saved as \" + file_path_opeak)\n",
    "\n",
    "\n",
    "# Save the map as html file    \n",
    "file_path_data = os.path.join(file_dir, 'data.html')\n",
    "\n",
    "londonMap_h.export_to_html(file_path_data)\n",
    "print(\"html saved as \" + file_path_data) "
   ]
  }
 ],
 "metadata": {
  "kernelspec": {
   "display_name": "Python 3 (ipykernel)",
   "language": "python",
   "name": "python3"
  },
  "language_info": {
   "codemirror_mode": {
    "name": "ipython",
    "version": 3
   },
   "file_extension": ".py",
   "mimetype": "text/x-python",
   "name": "python",
   "nbconvert_exporter": "python",
   "pygments_lexer": "ipython3",
   "version": "3.9.11"
  }
 },
 "nbformat": 4,
 "nbformat_minor": 5
}
